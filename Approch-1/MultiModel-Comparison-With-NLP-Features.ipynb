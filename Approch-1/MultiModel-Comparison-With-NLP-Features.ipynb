{
 "cells": [
  {
   "cell_type": "code",
   "execution_count": 1,
   "metadata": {},
   "outputs": [
    {
     "name": "stderr",
     "output_type": "stream",
     "text": [
      "/home/lab/.local/lib/python3.10/site-packages/tqdm/auto.py:21: TqdmWarning: IProgress not found. Please update jupyter and ipywidgets. See https://ipywidgets.readthedocs.io/en/stable/user_install.html\n",
      "  from .autonotebook import tqdm as notebook_tqdm\n"
     ]
    }
   ],
   "source": [
    "# General-purpose\n",
    "import os\n",
    "import joblib\n",
    "import numpy as np\n",
    "import pandas as pd\n",
    "import matplotlib.pyplot as plt\n",
    "import seaborn as sns\n",
    "\n",
    "# Torch for modeling\n",
    "import torch\n",
    "import torch.nn as nn\n",
    "import torch.optim as optim\n",
    "import torch.nn.functional as F\n",
    "from torch.utils.data import TensorDataset, DataLoader\n",
    "\n",
    "# Scikit-learn for preprocessing and evaluation\n",
    "\n",
    "from sklearn.model_selection import train_test_split, cross_val_score, StratifiedKFold\n",
    "from sklearn.metrics import accuracy_score, precision_score, recall_score, f1_score, classification_report, confusion_matrix\n",
    "from sklearn.linear_model import LogisticRegression\n",
    "from sklearn.ensemble import RandomForestClassifier\n",
    "from sklearn.svm import SVC\n",
    "from sklearn.naive_bayes import MultinomialNB, GaussianNB\n",
    "from sklearn.preprocessing import LabelEncoder, StandardScaler, MinMaxScaler\n",
    "from sklearn.metrics.pairwise import cosine_similarity\n",
    "from sklearn.base import clone\n",
    "\n",
    "# NLP tools\n",
    "import spacy\n",
    "from textblob import TextBlob\n",
    "from nltk.sentiment.vader import SentimentIntensityAnalyzer\n",
    "import nltk\n",
    "\n",
    "# Progress bar\n",
    "from tqdm import tqdm, trange\n",
    "import time\n",
    "import optuna\n",
    "# Word cloud for visualization\n",
    "from wordcloud import WordCloud\n",
    "\n",
    "\n",
    "\n",
    "# Multi-Classifier Comparison for Fake News Detection\n",
    "\n",
    "import xgboost as xgb\n",
    "from sklearn.feature_extraction.text import TfidfVectorizer\n",
    "from transformers import AutoTokenizer, AutoModelForSequenceClassification, Trainer, TrainingArguments\n",
    "from datasets import Dataset\n",
    "import warnings\n",
    "warnings.filterwarnings('ignore')\n"
   ]
  },
  {
   "cell_type": "markdown",
   "metadata": {},
   "source": [
    "# Good things"
   ]
  },
  {
   "cell_type": "code",
   "execution_count": 2,
   "metadata": {},
   "outputs": [
    {
     "data": {
      "text/html": [
       "<div>\n",
       "<style scoped>\n",
       "    .dataframe tbody tr th:only-of-type {\n",
       "        vertical-align: middle;\n",
       "    }\n",
       "\n",
       "    .dataframe tbody tr th {\n",
       "        vertical-align: top;\n",
       "    }\n",
       "\n",
       "    .dataframe thead th {\n",
       "        text-align: right;\n",
       "    }\n",
       "</style>\n",
       "<table border=\"1\" class=\"dataframe\">\n",
       "  <thead>\n",
       "    <tr style=\"text-align: right;\">\n",
       "      <th></th>\n",
       "      <th>title</th>\n",
       "      <th>text</th>\n",
       "      <th>Label</th>\n",
       "      <th>text_length</th>\n",
       "      <th>word_count</th>\n",
       "      <th>title_length</th>\n",
       "    </tr>\n",
       "  </thead>\n",
       "  <tbody>\n",
       "    <tr>\n",
       "      <th>0</th>\n",
       "      <td>donald trump sends out embarrassing new year e...</td>\n",
       "      <td>donald trump just could not wish all american ...</td>\n",
       "      <td>0</td>\n",
       "      <td>2283</td>\n",
       "      <td>385</td>\n",
       "      <td>72</td>\n",
       "    </tr>\n",
       "    <tr>\n",
       "      <th>1</th>\n",
       "      <td>drunk bragging trump staffer started russian c...</td>\n",
       "      <td>house intelligence committee chairman devin nu...</td>\n",
       "      <td>0</td>\n",
       "      <td>1673</td>\n",
       "      <td>248</td>\n",
       "      <td>68</td>\n",
       "    </tr>\n",
       "    <tr>\n",
       "      <th>2</th>\n",
       "      <td>sheriff david clarke becomes internet joke for...</td>\n",
       "      <td>friday wa revealed that former milwaukee sheri...</td>\n",
       "      <td>0</td>\n",
       "      <td>2643</td>\n",
       "      <td>422</td>\n",
       "      <td>78</td>\n",
       "    </tr>\n",
       "    <tr>\n",
       "      <th>3</th>\n",
       "      <td>trump obsessed even ha obama name coded into h...</td>\n",
       "      <td>christmas day donald trump announced that woul...</td>\n",
       "      <td>0</td>\n",
       "      <td>2095</td>\n",
       "      <td>338</td>\n",
       "      <td>62</td>\n",
       "    </tr>\n",
       "    <tr>\n",
       "      <th>4</th>\n",
       "      <td>pope francis just called out donald trump duri...</td>\n",
       "      <td>pope francis used his annual christmas day mes...</td>\n",
       "      <td>0</td>\n",
       "      <td>1990</td>\n",
       "      <td>332</td>\n",
       "      <td>69</td>\n",
       "    </tr>\n",
       "  </tbody>\n",
       "</table>\n",
       "</div>"
      ],
      "text/plain": [
       "                                               title  \\\n",
       "0  donald trump sends out embarrassing new year e...   \n",
       "1  drunk bragging trump staffer started russian c...   \n",
       "2  sheriff david clarke becomes internet joke for...   \n",
       "3  trump obsessed even ha obama name coded into h...   \n",
       "4  pope francis just called out donald trump duri...   \n",
       "\n",
       "                                                text  Label  text_length  \\\n",
       "0  donald trump just could not wish all american ...      0         2283   \n",
       "1  house intelligence committee chairman devin nu...      0         1673   \n",
       "2  friday wa revealed that former milwaukee sheri...      0         2643   \n",
       "3  christmas day donald trump announced that woul...      0         2095   \n",
       "4  pope francis used his annual christmas day mes...      0         1990   \n",
       "\n",
       "   word_count  title_length  \n",
       "0         385            72  \n",
       "1         248            68  \n",
       "2         422            78  \n",
       "3         338            62  \n",
       "4         332            69  "
      ]
     },
     "execution_count": 2,
     "metadata": {},
     "output_type": "execute_result"
    }
   ],
   "source": [
    "df = pd.read_csv('final_data.csv')\n",
    "df.head()"
   ]
  },
  {
   "cell_type": "code",
   "execution_count": 3,
   "metadata": {},
   "outputs": [
    {
     "name": "stdout",
     "output_type": "stream",
     "text": [
      "Label Distribution (Real vs Fake News):\n",
      "Label\n",
      "0    51575\n",
      "1    47956\n",
      "Name: count, dtype: int64\n",
      "\n",
      "Mapped Distribution:\n",
      "Index(['Fake', 'Real'], dtype='object', name='Label')\n"
     ]
    }
   ],
   "source": [
    "# Check the distribution of labels in the final sampled dataframe\n",
    "label_distribution = df['Label'].value_counts()\n",
    "\n",
    "# Display label distribution\n",
    "print(\"Label Distribution (Real vs Fake News):\")\n",
    "print(label_distribution)\n",
    "\n",
    "# Optionally, map labels to their meaning (real vs fake)\n",
    "label_mapping = {0: \"Fake\", 1: \"Real\"}\n",
    "print(\"\\nMapped Distribution:\")\n",
    "print(label_distribution.index.map(label_mapping))"
   ]
  },
  {
   "cell_type": "code",
   "execution_count": 4,
   "metadata": {},
   "outputs": [
    {
     "data": {
      "text/html": [
       "<div>\n",
       "<style scoped>\n",
       "    .dataframe tbody tr th:only-of-type {\n",
       "        vertical-align: middle;\n",
       "    }\n",
       "\n",
       "    .dataframe tbody tr th {\n",
       "        vertical-align: top;\n",
       "    }\n",
       "\n",
       "    .dataframe thead th {\n",
       "        text-align: right;\n",
       "    }\n",
       "</style>\n",
       "<table border=\"1\" class=\"dataframe\">\n",
       "  <thead>\n",
       "    <tr style=\"text-align: right;\">\n",
       "      <th></th>\n",
       "      <th>title</th>\n",
       "      <th>text</th>\n",
       "      <th>Label</th>\n",
       "      <th>text_length</th>\n",
       "      <th>word_count</th>\n",
       "      <th>title_length</th>\n",
       "    </tr>\n",
       "  </thead>\n",
       "  <tbody>\n",
       "    <tr>\n",
       "      <th>0</th>\n",
       "      <td>session persuaded trump end daca then race-bai...</td>\n",
       "      <td>certainly secret that jefferson beauregard ses...</td>\n",
       "      <td>1</td>\n",
       "      <td>2688</td>\n",
       "      <td>434</td>\n",
       "      <td>88</td>\n",
       "    </tr>\n",
       "    <tr>\n",
       "      <th>1</th>\n",
       "      <td>factbox you lawmaker others hospital after sho...</td>\n",
       "      <td>reuters senior member the you house representa...</td>\n",
       "      <td>0</td>\n",
       "      <td>1860</td>\n",
       "      <td>277</td>\n",
       "      <td>69</td>\n",
       "    </tr>\n",
       "    <tr>\n",
       "      <th>2</th>\n",
       "      <td>dr. trump offer placebo transparency the new y...</td>\n",
       "      <td>thursday episode the dr. show donald trump tol...</td>\n",
       "      <td>0</td>\n",
       "      <td>4234</td>\n",
       "      <td>676</td>\n",
       "      <td>54</td>\n",
       "    </tr>\n",
       "    <tr>\n",
       "      <th>3</th>\n",
       "      <td>revealed how democratic party pay agit-prop pr...</td>\n",
       "      <td>anthony brian logan james keefe project verita...</td>\n",
       "      <td>0</td>\n",
       "      <td>1179</td>\n",
       "      <td>183</td>\n",
       "      <td>81</td>\n",
       "    </tr>\n",
       "    <tr>\n",
       "      <th>4</th>\n",
       "      <td>trump will not ask donor repay nearly million ...</td>\n",
       "      <td>washington reuters republican donald trump ha ...</td>\n",
       "      <td>1</td>\n",
       "      <td>3998</td>\n",
       "      <td>600</td>\n",
       "      <td>59</td>\n",
       "    </tr>\n",
       "  </tbody>\n",
       "</table>\n",
       "</div>"
      ],
      "text/plain": [
       "                                               title  \\\n",
       "0  session persuaded trump end daca then race-bai...   \n",
       "1  factbox you lawmaker others hospital after sho...   \n",
       "2  dr. trump offer placebo transparency the new y...   \n",
       "3  revealed how democratic party pay agit-prop pr...   \n",
       "4  trump will not ask donor repay nearly million ...   \n",
       "\n",
       "                                                text  Label  text_length  \\\n",
       "0  certainly secret that jefferson beauregard ses...      1         2688   \n",
       "1  reuters senior member the you house representa...      0         1860   \n",
       "2  thursday episode the dr. show donald trump tol...      0         4234   \n",
       "3  anthony brian logan james keefe project verita...      0         1179   \n",
       "4  washington reuters republican donald trump ha ...      1         3998   \n",
       "\n",
       "   word_count  title_length  \n",
       "0         434            88  \n",
       "1         277            69  \n",
       "2         676            54  \n",
       "3         183            81  \n",
       "4         600            59  "
      ]
     },
     "execution_count": 4,
     "metadata": {},
     "output_type": "execute_result"
    }
   ],
   "source": [
    "df_0 = df[df['Label'] == 0]\n",
    "df_1 = df[df['Label'] == 1]\n",
    "\n",
    "# Sample 10,000 rows from each label (if there are enough rows)\n",
    "sampled_df_0 = df_0.sample(n=10000, random_state=42, replace=False)\n",
    "sampled_df_1 = df_1.sample(n=10000, random_state=42, replace=False)\n",
    "\n",
    "# Concatenate the two sampled DataFrames\n",
    "final_sampled_df = pd.concat([sampled_df_0, sampled_df_1])\n",
    "\n",
    "# Shuffle the final dataframe to mix the labels\n",
    "sample_df = final_sampled_df.sample(frac=1, random_state=42).reset_index(drop=True)\n",
    "\n",
    "sample_df.head()\n"
   ]
  },
  {
   "cell_type": "code",
   "execution_count": 5,
   "metadata": {},
   "outputs": [
    {
     "name": "stdout",
     "output_type": "stream",
     "text": [
      "Defaulting to user installation because normal site-packages is not writeable\n",
      "Collecting en-core-web-md==3.8.0\n",
      "  Downloading https://github.com/explosion/spacy-models/releases/download/en_core_web_md-3.8.0/en_core_web_md-3.8.0-py3-none-any.whl (33.5 MB)\n",
      "     ━━━━━━━━━━━━━━━━━━━━━━━━━━━━━━━━━━━━━━━━ 33.5/33.5 MB 10.5 MB/s eta 0:00:00\n",
      "\u001b[38;5;2m✔ Download and installation successful\u001b[0m\n",
      "You can now load the package via spacy.load('en_core_web_md')\n",
      "\u001b[38;5;3m⚠ Restart to reload dependencies\u001b[0m\n",
      "If you are in a Jupyter or Colab notebook, you may need to restart Python in\n",
      "order to load all the package's dependencies. You can do this by selecting the\n",
      "'Restart kernel' or 'Restart runtime' option.\n"
     ]
    }
   ],
   "source": [
    "spacy.cli.download(\"en_core_web_md\")"
   ]
  },
  {
   "cell_type": "code",
   "execution_count": 6,
   "metadata": {},
   "outputs": [
    {
     "name": "stderr",
     "output_type": "stream",
     "text": [
      "[nltk_data] Downloading package vader_lexicon to\n",
      "[nltk_data]     /home/lab/nltk_data...\n",
      "[nltk_data]   Package vader_lexicon is already up-to-date!\n"
     ]
    },
    {
     "data": {
      "text/plain": [
       "True"
      ]
     },
     "execution_count": 6,
     "metadata": {},
     "output_type": "execute_result"
    }
   ],
   "source": [
    "import nltk\n",
    "nltk.download('vader_lexicon')\n"
   ]
  },
  {
   "cell_type": "code",
   "execution_count": 7,
   "metadata": {},
   "outputs": [],
   "source": [
    "# Download necessary models\n",
    "nlp = spacy.load('en_core_web_md')\n",
    "# nltk.download('vader_lexicon')\n",
    "sid = SentimentIntensityAnalyzer()\n"
   ]
  },
  {
   "cell_type": "code",
   "execution_count": 10,
   "metadata": {},
   "outputs": [
    {
     "name": "stderr",
     "output_type": "stream",
     "text": [
      "/home/lab/.local/lib/python3.10/site-packages/tqdm/auto.py:21: TqdmWarning: IProgress not found. Please update jupyter and ipywidgets. See https://ipywidgets.readthedocs.io/en/stable/user_install.html\n",
      "  from .autonotebook import tqdm as notebook_tqdm\n"
     ]
    },
    {
     "name": "stdout",
     "output_type": "stream",
     "text": [
      "Device -> cpu\n"
     ]
    },
    {
     "name": "stderr",
     "output_type": "stream",
     "text": [
      "Batches: 100%|██████████| 625/625 [04:20<00:00,  2.40it/s]\n"
     ]
    }
   ],
   "source": [
    "from sentence_transformers import SentenceTransformer\n",
    "\n",
    "device = 'cuda' if torch.cuda.is_available() else 'cpu'\n",
    "print(f'Device -> {device}')\n",
    "model = SentenceTransformer('all-MiniLM-L6-v2', device=device)\n",
    "\n",
    "text_embeddings = model.encode(sample_df['text'].tolist(), show_progress_bar=True, batch_size=32, convert_to_tensor=True, device=device)"
   ]
  },
  {
   "cell_type": "code",
   "execution_count": 11,
   "metadata": {},
   "outputs": [
    {
     "name": "stderr",
     "output_type": "stream",
     "text": [
      "/tmp/ipykernel_9677/1756431424.py:2: UserWarning: To copy construct from a tensor, it is recommended to use sourceTensor.detach().clone() or sourceTensor.detach().clone().requires_grad_(True), rather than torch.tensor(sourceTensor).\n",
      "  'text_embeddings': torch.tensor(text_embeddings)\n"
     ]
    }
   ],
   "source": [
    "torch.save({\n",
    "    'text_embeddings': torch.tensor(text_embeddings)\n",
    "}, 'embeddings.pth')"
   ]
  },
  {
   "cell_type": "code",
   "execution_count": 8,
   "metadata": {},
   "outputs": [],
   "source": [
    "# Just for loading The text_embeddings\n",
    "\n",
    "checkpoint = torch.load('embeddings.pth')\n",
    "\n",
    "# Retrieve embeddings\n",
    "text_embeddings = checkpoint['text_embeddings']\n",
    "\n",
    "text_embeddings = text_embeddings.numpy()"
   ]
  },
  {
   "cell_type": "code",
   "execution_count": 9,
   "metadata": {},
   "outputs": [
    {
     "data": {
      "text/plain": [
       "array([[-0.15168498,  0.05076741,  0.00577738, ...,  0.03440189,\n",
       "         0.01263732, -0.03231959],\n",
       "       [-0.0217052 ,  0.03860647,  0.00116673, ...,  0.0101802 ,\n",
       "        -0.02506239,  0.03023208],\n",
       "       [-0.0302746 ,  0.09019405,  0.07663918, ...,  0.0122202 ,\n",
       "        -0.03732891,  0.10030504],\n",
       "       ...,\n",
       "       [ 0.01327421,  0.09790859,  0.02832698, ..., -0.00722394,\n",
       "         0.03223475, -0.00765299],\n",
       "       [-0.04839357, -0.02018514, -0.04375871, ..., -0.0272069 ,\n",
       "         0.01274508, -0.0151646 ],\n",
       "       [-0.08904281,  0.09196734,  0.05890042, ..., -0.14254005,\n",
       "        -0.05353836,  0.04891393]], shape=(20000, 384), dtype=float32)"
      ]
     },
     "execution_count": 9,
     "metadata": {},
     "output_type": "execute_result"
    }
   ],
   "source": [
    "text_embeddings"
   ]
  },
  {
   "cell_type": "code",
   "execution_count": 10,
   "metadata": {},
   "outputs": [],
   "source": [
    "# --- Sentence-level Preprocessing ---\n",
    "\n",
    "def preprocess_article(text):\n",
    "    doc = nlp(text)\n",
    "    processed_sentences = []\n",
    "    for sent in doc.sents:\n",
    "        s = sent.text.strip()\n",
    "        if len(s) > 1:\n",
    "            processed_sentences.append({\n",
    "                \"original\": s,\n",
    "                \"word_count\": len(s.split())\n",
    "            })\n",
    "    return processed_sentences\n",
    "\n",
    "# --- Feature Functions ---\n",
    "\n",
    "def paraphrasing_rate(processed_sentences, T=0.8):\n",
    "    embeddings = [nlp(s['original']).vector for s in processed_sentences]\n",
    "    N = len(embeddings)\n",
    "    if N <= 1:\n",
    "        return 0.0\n",
    "    count = 0\n",
    "    for i in range(N):\n",
    "        sims = [\n",
    "            cosine_similarity([embeddings[i]], [embeddings[j]])[0][0]\n",
    "            for j in range(N) if j != i\n",
    "        ]\n",
    "        if max(sims, default=0) > T:\n",
    "            count += 1\n",
    "    return count / N\n",
    "\n",
    "def subjectivity_ratio(processed_sentences):\n",
    "    N = len(processed_sentences)\n",
    "    if N == 0:\n",
    "        return 0.0\n",
    "    subj = sum(1 for s in processed_sentences\n",
    "               if TextBlob(s['original']).sentiment.subjectivity > 0.5)\n",
    "    return subj / N\n",
    "\n",
    "def sentiment_intensity_ratio(processed_sentences):\n",
    "    N = len(processed_sentences)\n",
    "    if N == 0:\n",
    "        return 0.0\n",
    "    intense = sum(1 for s in processed_sentences\n",
    "                  if abs(sid.polarity_scores(s['original'])['compound']) > 0.5)\n",
    "    return intense / N\n",
    "\n",
    "def average_sentence_length(processed_sentences):\n",
    "    N = len(processed_sentences)\n",
    "    if N == 0:\n",
    "        return 0.0\n",
    "    total = sum(s['word_count'] for s in processed_sentences)\n",
    "    return total / N\n",
    "\n",
    "def manipulative_score(processed_sentences, alpha=0.5, beta=0.5):\n",
    "    return alpha * subjectivity_ratio(processed_sentences) + beta * sentiment_intensity_ratio(processed_sentences)\n",
    "\n",
    "# --- Dataset Preparation ---\n",
    "\n",
    "def prepare_dataset(df, text_vectors, cache_path=\"cached_dataset.pkl\"):\n",
    "    if os.path.exists(cache_path):\n",
    "        print(f\"📦 Loading cached dataset from {cache_path} ...\")\n",
    "        X, y = joblib.load(cache_path)\n",
    "        return X, y\n",
    "\n",
    "    print(\"🔍 Preprocessing articles and generating features...\")\n",
    "    X, y = [], []\n",
    "    for idx, row in tqdm(df.iterrows(), total=len(df), desc=\"Preprocessing\"):\n",
    "        text = row['text']\n",
    "        label = row['Label']\n",
    "        vec = text_vectors[idx]  # already extracted 384-d vector\n",
    "\n",
    "        processed = preprocess_article(text)\n",
    "        f1 = paraphrasing_rate(processed)\n",
    "        f2 = subjectivity_ratio(processed)\n",
    "        f3 = sentiment_intensity_ratio(processed)\n",
    "        f4 = average_sentence_length(processed)\n",
    "        f5 = manipulative_score(processed)\n",
    "\n",
    "        X.append(list(vec) + [f1, f2, f3, f4, f5])\n",
    "        y.append(label)\n",
    "\n",
    "    # Convert to tensors\n",
    "    X_tensor = torch.tensor(X, dtype=torch.float32)\n",
    "    y_tensor = torch.tensor(y, dtype=torch.long)\n",
    "\n",
    "    # Save to disk\n",
    "    joblib.dump((X_tensor, y_tensor), cache_path)\n",
    "    print(f\"✅ Dataset cached at {cache_path}\")\n",
    "\n",
    "    return X_tensor, y_tensor\n",
    "\n"
   ]
  },
  {
   "cell_type": "code",
   "execution_count": null,
   "metadata": {},
   "outputs": [],
   "source": [
    "\n",
    "# --- Model Definition ---\n",
    "class FakeNewsClassifier(nn.Module):\n",
    "    def __init__(self, input_dim=389):\n",
    "        super(FakeNewsClassifier, self).__init__()\n",
    "        self.net = nn.Sequential(\n",
    "            nn.Linear(input_dim, 512),\n",
    "            nn.BatchNorm1d(512),\n",
    "            nn.LeakyReLU(),\n",
    "            nn.Dropout(0.4),\n",
    "            nn.Linear(512, 256),\n",
    "            nn.BatchNorm1d(256),\n",
    "            nn.LeakyReLU(),\n",
    "            nn.Dropout(0.4),\n",
    "            nn.Linear(256, 1)\n",
    "        )\n",
    "\n",
    "    def forward(self, x):\n",
    "        return self.net(x).squeeze(1)  # Remove sigmoid here\n",
    "\n",
    "# --- Training and Evaluation ---\n",
    "\n",
    "def train(model, loader, criterion, optimizer, device):\n",
    "    model.train()\n",
    "    total_loss = 0\n",
    "    loop = tqdm(loader, desc=\"🛠️ Training\", leave=False)\n",
    "    for xb, yb in loop:\n",
    "        xb, yb = xb.to(device), yb.to(device).float()\n",
    "        optimizer.zero_grad()\n",
    "        out = model(xb)\n",
    "        loss = criterion(out, yb)\n",
    "        loss.backward()\n",
    "        optimizer.step()\n",
    "        total_loss += loss.item() * xb.size(0)\n",
    "        loop.set_postfix(loss=loss.item())\n",
    "    return total_loss / len(loader.dataset)\n",
    "\n",
    "def evaluate(model, loader, device):\n",
    "    model.eval()\n",
    "    correct, total = 0, 0\n",
    "    with torch.no_grad():\n",
    "        for xb, yb in loader:\n",
    "            xb, yb = xb.to(device), yb.to(device)\n",
    "            preds = (model(xb) > 0.5).long()\n",
    "            correct += (preds == yb).sum().item()\n",
    "            total += yb.size(0)\n",
    "    return correct / total\n",
    "\n",
    "# --- Main Training Loop ---\n",
    "\n",
    "# Replace with your real data\n",
    "# dff = DataFrame with columns ['text', 'Label']\n",
    "# text_embeddings = Numpy array with shape (N, 384)\n",
    "\n",
    "X, y = prepare_dataset(sample_df, text_embeddings)\n"
   ]
  },
  {
   "cell_type": "code",
   "execution_count": 19,
   "metadata": {},
   "outputs": [
    {
     "name": "stdout",
     "output_type": "stream",
     "text": [
      "🏁 Starting training...\n",
      "\n"
     ]
    },
    {
     "name": "stderr",
     "output_type": "stream",
     "text": [
      "📊 Epoch Progress:   3%|▎         | 1/30 [00:01<00:39,  1.38s/it]"
     ]
    },
    {
     "name": "stdout",
     "output_type": "stream",
     "text": [
      "📅 Epoch 1/30 — 🧠 Loss: 0.7030 | 🎯 Test Acc: 0.5142 | ⏱️ Time: 1.37s\n",
      "✅ New best model saved!\n"
     ]
    },
    {
     "name": "stderr",
     "output_type": "stream",
     "text": [
      "📊 Epoch Progress:   7%|▋         | 2/30 [00:02<00:39,  1.40s/it]"
     ]
    },
    {
     "name": "stdout",
     "output_type": "stream",
     "text": [
      "📅 Epoch 2/30 — 🧠 Loss: 0.6948 | 🎯 Test Acc: 0.5228 | ⏱️ Time: 1.41s\n",
      "✅ New best model saved!\n"
     ]
    },
    {
     "name": "stderr",
     "output_type": "stream",
     "text": [
      "📊 Epoch Progress:  10%|█         | 3/30 [00:04<00:37,  1.37s/it]"
     ]
    },
    {
     "name": "stdout",
     "output_type": "stream",
     "text": [
      "📅 Epoch 3/30 — 🧠 Loss: 0.6913 | 🎯 Test Acc: 0.5258 | ⏱️ Time: 1.34s\n",
      "✅ New best model saved!\n"
     ]
    },
    {
     "name": "stderr",
     "output_type": "stream",
     "text": [
      "📊 Epoch Progress:  13%|█▎        | 4/30 [00:05<00:36,  1.39s/it]"
     ]
    },
    {
     "name": "stdout",
     "output_type": "stream",
     "text": [
      "📅 Epoch 4/30 — 🧠 Loss: 0.6909 | 🎯 Test Acc: 0.5310 | ⏱️ Time: 1.41s\n",
      "✅ New best model saved!\n"
     ]
    },
    {
     "name": "stderr",
     "output_type": "stream",
     "text": [
      "📊 Epoch Progress:  17%|█▋        | 5/30 [00:06<00:35,  1.40s/it]"
     ]
    },
    {
     "name": "stdout",
     "output_type": "stream",
     "text": [
      "📅 Epoch 5/30 — 🧠 Loss: 0.6880 | 🎯 Test Acc: 0.5235 | ⏱️ Time: 1.43s\n"
     ]
    },
    {
     "name": "stderr",
     "output_type": "stream",
     "text": [
      "📊 Epoch Progress:  20%|██        | 6/30 [00:08<00:35,  1.47s/it]"
     ]
    },
    {
     "name": "stdout",
     "output_type": "stream",
     "text": [
      "📅 Epoch 6/30 — 🧠 Loss: 0.6857 | 🎯 Test Acc: 0.5240 | ⏱️ Time: 1.61s\n"
     ]
    },
    {
     "name": "stderr",
     "output_type": "stream",
     "text": [
      "📊 Epoch Progress:  23%|██▎       | 7/30 [00:10<00:35,  1.54s/it]"
     ]
    },
    {
     "name": "stdout",
     "output_type": "stream",
     "text": [
      "📅 Epoch 7/30 — 🧠 Loss: 0.6862 | 🎯 Test Acc: 0.5270 | ⏱️ Time: 1.67s\n"
     ]
    },
    {
     "name": "stderr",
     "output_type": "stream",
     "text": [
      "📊 Epoch Progress:  27%|██▋       | 8/30 [00:12<00:35,  1.62s/it]"
     ]
    },
    {
     "name": "stdout",
     "output_type": "stream",
     "text": [
      "📅 Epoch 8/30 — 🧠 Loss: 0.6857 | 🎯 Test Acc: 0.5557 | ⏱️ Time: 1.79s\n",
      "✅ New best model saved!\n"
     ]
    },
    {
     "name": "stderr",
     "output_type": "stream",
     "text": [
      "📊 Epoch Progress:  30%|███       | 9/30 [00:13<00:35,  1.68s/it]"
     ]
    },
    {
     "name": "stdout",
     "output_type": "stream",
     "text": [
      "📅 Epoch 9/30 — 🧠 Loss: 0.6844 | 🎯 Test Acc: 0.5278 | ⏱️ Time: 1.82s\n"
     ]
    },
    {
     "name": "stderr",
     "output_type": "stream",
     "text": [
      "📊 Epoch Progress:  33%|███▎      | 10/30 [00:15<00:33,  1.69s/it]"
     ]
    },
    {
     "name": "stdout",
     "output_type": "stream",
     "text": [
      "📅 Epoch 10/30 — 🧠 Loss: 0.6813 | 🎯 Test Acc: 0.5510 | ⏱️ Time: 1.71s\n"
     ]
    },
    {
     "name": "stderr",
     "output_type": "stream",
     "text": [
      "📊 Epoch Progress:  37%|███▋      | 11/30 [00:17<00:32,  1.69s/it]"
     ]
    },
    {
     "name": "stdout",
     "output_type": "stream",
     "text": [
      "📅 Epoch 11/30 — 🧠 Loss: 0.6817 | 🎯 Test Acc: 0.5493 | ⏱️ Time: 1.68s\n"
     ]
    },
    {
     "name": "stderr",
     "output_type": "stream",
     "text": [
      "📊 Epoch Progress:  40%|████      | 12/30 [00:18<00:30,  1.68s/it]"
     ]
    },
    {
     "name": "stdout",
     "output_type": "stream",
     "text": [
      "📅 Epoch 12/30 — 🧠 Loss: 0.6827 | 🎯 Test Acc: 0.5483 | ⏱️ Time: 1.65s\n"
     ]
    },
    {
     "name": "stderr",
     "output_type": "stream",
     "text": [
      "📊 Epoch Progress:  43%|████▎     | 13/30 [00:20<00:28,  1.67s/it]"
     ]
    },
    {
     "name": "stdout",
     "output_type": "stream",
     "text": [
      "📅 Epoch 13/30 — 🧠 Loss: 0.6802 | 🎯 Test Acc: 0.5427 | ⏱️ Time: 1.67s\n"
     ]
    },
    {
     "name": "stderr",
     "output_type": "stream",
     "text": [
      "📊 Epoch Progress:  47%|████▋     | 14/30 [00:22<00:26,  1.67s/it]"
     ]
    },
    {
     "name": "stdout",
     "output_type": "stream",
     "text": [
      "📅 Epoch 14/30 — 🧠 Loss: 0.6786 | 🎯 Test Acc: 0.5540 | ⏱️ Time: 1.67s\n"
     ]
    },
    {
     "name": "stderr",
     "output_type": "stream",
     "text": [
      "📊 Epoch Progress:  50%|█████     | 15/30 [00:23<00:25,  1.69s/it]"
     ]
    },
    {
     "name": "stdout",
     "output_type": "stream",
     "text": [
      "📅 Epoch 15/30 — 🧠 Loss: 0.6780 | 🎯 Test Acc: 0.5405 | ⏱️ Time: 1.73s\n"
     ]
    },
    {
     "name": "stderr",
     "output_type": "stream",
     "text": [
      "📊 Epoch Progress:  53%|█████▎    | 16/30 [00:25<00:23,  1.69s/it]"
     ]
    },
    {
     "name": "stdout",
     "output_type": "stream",
     "text": [
      "📅 Epoch 16/30 — 🧠 Loss: 0.6773 | 🎯 Test Acc: 0.5460 | ⏱️ Time: 1.68s\n"
     ]
    },
    {
     "name": "stderr",
     "output_type": "stream",
     "text": [
      "📊 Epoch Progress:  57%|█████▋    | 17/30 [00:27<00:21,  1.69s/it]"
     ]
    },
    {
     "name": "stdout",
     "output_type": "stream",
     "text": [
      "📅 Epoch 17/30 — 🧠 Loss: 0.6778 | 🎯 Test Acc: 0.5435 | ⏱️ Time: 1.70s\n"
     ]
    },
    {
     "name": "stderr",
     "output_type": "stream",
     "text": [
      "📊 Epoch Progress:  60%|██████    | 18/30 [00:28<00:20,  1.68s/it]"
     ]
    },
    {
     "name": "stdout",
     "output_type": "stream",
     "text": [
      "📅 Epoch 18/30 — 🧠 Loss: 0.6769 | 🎯 Test Acc: 0.5485 | ⏱️ Time: 1.64s\n"
     ]
    },
    {
     "name": "stderr",
     "output_type": "stream",
     "text": [
      "📊 Epoch Progress:  63%|██████▎   | 19/30 [00:30<00:18,  1.68s/it]"
     ]
    },
    {
     "name": "stdout",
     "output_type": "stream",
     "text": [
      "📅 Epoch 19/30 — 🧠 Loss: 0.6748 | 🎯 Test Acc: 0.5455 | ⏱️ Time: 1.69s\n"
     ]
    },
    {
     "name": "stderr",
     "output_type": "stream",
     "text": [
      "📊 Epoch Progress:  67%|██████▋   | 20/30 [00:32<00:16,  1.68s/it]"
     ]
    },
    {
     "name": "stdout",
     "output_type": "stream",
     "text": [
      "📅 Epoch 20/30 — 🧠 Loss: 0.6731 | 🎯 Test Acc: 0.5580 | ⏱️ Time: 1.68s\n",
      "✅ New best model saved!\n"
     ]
    },
    {
     "name": "stderr",
     "output_type": "stream",
     "text": [
      "📊 Epoch Progress:  70%|███████   | 21/30 [00:34<00:15,  1.68s/it]"
     ]
    },
    {
     "name": "stdout",
     "output_type": "stream",
     "text": [
      "📅 Epoch 21/30 — 🧠 Loss: 0.6727 | 🎯 Test Acc: 0.5510 | ⏱️ Time: 1.66s\n"
     ]
    },
    {
     "name": "stderr",
     "output_type": "stream",
     "text": [
      "📊 Epoch Progress:  73%|███████▎  | 22/30 [00:35<00:13,  1.67s/it]"
     ]
    },
    {
     "name": "stdout",
     "output_type": "stream",
     "text": [
      "📅 Epoch 22/30 — 🧠 Loss: 0.6729 | 🎯 Test Acc: 0.5520 | ⏱️ Time: 1.65s\n"
     ]
    },
    {
     "name": "stderr",
     "output_type": "stream",
     "text": [
      "📊 Epoch Progress:  77%|███████▋  | 23/30 [00:37<00:11,  1.66s/it]"
     ]
    },
    {
     "name": "stdout",
     "output_type": "stream",
     "text": [
      "📅 Epoch 23/30 — 🧠 Loss: 0.6727 | 🎯 Test Acc: 0.5500 | ⏱️ Time: 1.64s\n"
     ]
    },
    {
     "name": "stderr",
     "output_type": "stream",
     "text": [
      "📊 Epoch Progress:  80%|████████  | 24/30 [00:39<00:10,  1.68s/it]"
     ]
    },
    {
     "name": "stdout",
     "output_type": "stream",
     "text": [
      "📅 Epoch 24/30 — 🧠 Loss: 0.6710 | 🎯 Test Acc: 0.5343 | ⏱️ Time: 1.74s\n"
     ]
    },
    {
     "name": "stderr",
     "output_type": "stream",
     "text": [
      "📊 Epoch Progress:  83%|████████▎ | 25/30 [00:40<00:08,  1.70s/it]"
     ]
    },
    {
     "name": "stdout",
     "output_type": "stream",
     "text": [
      "📅 Epoch 25/30 — 🧠 Loss: 0.6710 | 🎯 Test Acc: 0.5493 | ⏱️ Time: 1.74s\n"
     ]
    },
    {
     "name": "stderr",
     "output_type": "stream",
     "text": [
      "📊 Epoch Progress:  87%|████████▋ | 26/30 [00:42<00:06,  1.69s/it]"
     ]
    },
    {
     "name": "stdout",
     "output_type": "stream",
     "text": [
      "📅 Epoch 26/30 — 🧠 Loss: 0.6688 | 🎯 Test Acc: 0.5505 | ⏱️ Time: 1.66s\n"
     ]
    },
    {
     "name": "stderr",
     "output_type": "stream",
     "text": [
      "📊 Epoch Progress:  90%|█████████ | 27/30 [00:44<00:05,  1.71s/it]"
     ]
    },
    {
     "name": "stdout",
     "output_type": "stream",
     "text": [
      "📅 Epoch 27/30 — 🧠 Loss: 0.6700 | 🎯 Test Acc: 0.5497 | ⏱️ Time: 1.74s\n"
     ]
    },
    {
     "name": "stderr",
     "output_type": "stream",
     "text": [
      "📊 Epoch Progress:  93%|█████████▎| 28/30 [00:45<00:03,  1.72s/it]"
     ]
    },
    {
     "name": "stdout",
     "output_type": "stream",
     "text": [
      "📅 Epoch 28/30 — 🧠 Loss: 0.6688 | 🎯 Test Acc: 0.5517 | ⏱️ Time: 1.74s\n"
     ]
    },
    {
     "name": "stderr",
     "output_type": "stream",
     "text": [
      "📊 Epoch Progress:  97%|█████████▋| 29/30 [00:47<00:01,  1.72s/it]"
     ]
    },
    {
     "name": "stdout",
     "output_type": "stream",
     "text": [
      "📅 Epoch 29/30 — 🧠 Loss: 0.6676 | 🎯 Test Acc: 0.5483 | ⏱️ Time: 1.73s\n"
     ]
    },
    {
     "name": "stderr",
     "output_type": "stream",
     "text": [
      "📊 Epoch Progress: 100%|██████████| 30/30 [00:49<00:00,  1.65s/it]\n"
     ]
    },
    {
     "name": "stdout",
     "output_type": "stream",
     "text": [
      "📅 Epoch 30/30 — 🧠 Loss: 0.6672 | 🎯 Test Acc: 0.5480 | ⏱️ Time: 1.71s\n",
      "\n",
      "✅ Training done. Best test accuracy: 0.5580\n"
     ]
    }
   ],
   "source": [
    "\n",
    "X_train, X_test, y_train, y_test = train_test_split(X, y, test_size=0.2, random_state=42)\n",
    "train_loader = DataLoader(TensorDataset(X_train, y_train), batch_size=32, shuffle=True)\n",
    "test_loader = DataLoader(TensorDataset(X_test, y_test), batch_size=32)\n",
    "\n",
    "device = torch.device(\"cuda\" if torch.cuda.is_available() else \"cpu\")\n",
    "model = FakeNewsClassifier().to(device)\n",
    "criterion = nn.BCEWithLogitsLoss()\n",
    "\n",
    "optimizer = optim.Adam(model.parameters(), lr=1e-3)\n",
    "\n",
    "epochs = 30\n",
    "best_acc = 0\n",
    "patience = 5\n",
    "wait = 0\n",
    "\n",
    "\n",
    "print(\"🏁 Starting training...\\n\")\n",
    "\n",
    "for epoch in trange(epochs, desc=\"📊 Epoch Progress\"):\n",
    "    start = time.time()\n",
    "\n",
    "    loss = train(model, train_loader, criterion, optimizer, device)\n",
    "    acc = evaluate(model, test_loader, device)\n",
    "\n",
    "    elapsed = time.time() - start\n",
    "    print(f\"📅 Epoch {epoch+1}/{epochs} — 🧠 Loss: {loss:.4f} | 🎯 Test Acc: {acc:.4f} | ⏱️ Time: {elapsed:.2f}s\")\n",
    "\n",
    "    if acc > best_acc:\n",
    "        best_acc = acc\n",
    "        wait = 0\n",
    "        torch.save(model.state_dict(), \"best_fake_news.pt\")\n",
    "        print(\"✅ New best model saved!\")\n",
    "    else:\n",
    "        wait += 1\n",
    "        if wait >= patience:\n",
    "            print(\"⏹️ Early stopping triggered.\")\n",
    "            break\n",
    "        \n",
    "print(f\"\\n✅ Training done. Best test accuracy: {best_acc:.4f}\")"
   ]
  },
  {
   "cell_type": "code",
   "execution_count": 29,
   "metadata": {},
   "outputs": [
    {
     "name": "stdout",
     "output_type": "stream",
     "text": [
      "🏁 Starting training...\n",
      "\n"
     ]
    },
    {
     "name": "stderr",
     "output_type": "stream",
     "text": [
      "📊 Epoch Progress:   3%|▎         | 1/30 [00:01<00:32,  1.11s/it]"
     ]
    },
    {
     "name": "stdout",
     "output_type": "stream",
     "text": [
      "📅 Epoch 1/30 — 🧠 Loss: 0.7044 | 🎯 Test Acc: 0.5138 | ⏱️ Time: 1.11s\n",
      "✅ New best model saved!\n"
     ]
    },
    {
     "name": "stderr",
     "output_type": "stream",
     "text": [
      "📊 Epoch Progress:   7%|▋         | 2/30 [00:02<00:32,  1.16s/it]"
     ]
    },
    {
     "name": "stdout",
     "output_type": "stream",
     "text": [
      "📅 Epoch 2/30 — 🧠 Loss: 0.6953 | 🎯 Test Acc: 0.5148 | ⏱️ Time: 1.19s\n",
      "✅ New best model saved!\n"
     ]
    },
    {
     "name": "stderr",
     "output_type": "stream",
     "text": [
      "📊 Epoch Progress:  10%|█         | 3/30 [00:03<00:30,  1.14s/it]"
     ]
    },
    {
     "name": "stdout",
     "output_type": "stream",
     "text": [
      "📅 Epoch 3/30 — 🧠 Loss: 0.6921 | 🎯 Test Acc: 0.5145 | ⏱️ Time: 1.12s\n"
     ]
    },
    {
     "name": "stderr",
     "output_type": "stream",
     "text": [
      "📊 Epoch Progress:  13%|█▎        | 4/30 [00:04<00:29,  1.13s/it]"
     ]
    },
    {
     "name": "stdout",
     "output_type": "stream",
     "text": [
      "📅 Epoch 4/30 — 🧠 Loss: 0.6904 | 🎯 Test Acc: 0.5160 | ⏱️ Time: 1.10s\n",
      "✅ New best model saved!\n"
     ]
    },
    {
     "name": "stderr",
     "output_type": "stream",
     "text": [
      "📊 Epoch Progress:  17%|█▋        | 5/30 [00:05<00:29,  1.19s/it]"
     ]
    },
    {
     "name": "stdout",
     "output_type": "stream",
     "text": [
      "📅 Epoch 5/30 — 🧠 Loss: 0.6891 | 🎯 Test Acc: 0.5190 | ⏱️ Time: 1.29s\n",
      "✅ New best model saved!\n"
     ]
    },
    {
     "name": "stderr",
     "output_type": "stream",
     "text": [
      "📊 Epoch Progress:  20%|██        | 6/30 [00:06<00:27,  1.16s/it]"
     ]
    },
    {
     "name": "stdout",
     "output_type": "stream",
     "text": [
      "📅 Epoch 6/30 — 🧠 Loss: 0.6881 | 🎯 Test Acc: 0.5142 | ⏱️ Time: 1.12s\n"
     ]
    },
    {
     "name": "stderr",
     "output_type": "stream",
     "text": [
      "📊 Epoch Progress:  23%|██▎       | 7/30 [00:08<00:26,  1.16s/it]"
     ]
    },
    {
     "name": "stdout",
     "output_type": "stream",
     "text": [
      "📅 Epoch 7/30 — 🧠 Loss: 0.6865 | 🎯 Test Acc: 0.5158 | ⏱️ Time: 1.15s\n"
     ]
    },
    {
     "name": "stderr",
     "output_type": "stream",
     "text": [
      "📊 Epoch Progress:  27%|██▋       | 8/30 [00:09<00:25,  1.16s/it]"
     ]
    },
    {
     "name": "stdout",
     "output_type": "stream",
     "text": [
      "📅 Epoch 8/30 — 🧠 Loss: 0.6850 | 🎯 Test Acc: 0.5285 | ⏱️ Time: 1.15s\n",
      "✅ New best model saved!\n"
     ]
    },
    {
     "name": "stderr",
     "output_type": "stream",
     "text": [
      "📊 Epoch Progress:  30%|███       | 9/30 [00:10<00:24,  1.15s/it]"
     ]
    },
    {
     "name": "stdout",
     "output_type": "stream",
     "text": [
      "📅 Epoch 9/30 — 🧠 Loss: 0.6837 | 🎯 Test Acc: 0.5310 | ⏱️ Time: 1.15s\n",
      "✅ New best model saved!\n"
     ]
    },
    {
     "name": "stderr",
     "output_type": "stream",
     "text": [
      "📊 Epoch Progress:  33%|███▎      | 10/30 [00:11<00:23,  1.16s/it]"
     ]
    },
    {
     "name": "stdout",
     "output_type": "stream",
     "text": [
      "📅 Epoch 10/30 — 🧠 Loss: 0.6832 | 🎯 Test Acc: 0.5300 | ⏱️ Time: 1.16s\n"
     ]
    },
    {
     "name": "stderr",
     "output_type": "stream",
     "text": [
      "📊 Epoch Progress:  37%|███▋      | 11/30 [00:12<00:21,  1.15s/it]"
     ]
    },
    {
     "name": "stdout",
     "output_type": "stream",
     "text": [
      "📅 Epoch 11/30 — 🧠 Loss: 0.6813 | 🎯 Test Acc: 0.5312 | ⏱️ Time: 1.12s\n",
      "✅ New best model saved!\n"
     ]
    },
    {
     "name": "stderr",
     "output_type": "stream",
     "text": [
      "📊 Epoch Progress:  40%|████      | 12/30 [00:13<00:20,  1.16s/it]"
     ]
    },
    {
     "name": "stdout",
     "output_type": "stream",
     "text": [
      "📅 Epoch 12/30 — 🧠 Loss: 0.6814 | 🎯 Test Acc: 0.5292 | ⏱️ Time: 1.17s\n"
     ]
    },
    {
     "name": "stderr",
     "output_type": "stream",
     "text": [
      "📊 Epoch Progress:  43%|████▎     | 13/30 [00:14<00:19,  1.15s/it]"
     ]
    },
    {
     "name": "stdout",
     "output_type": "stream",
     "text": [
      "📅 Epoch 13/30 — 🧠 Loss: 0.6806 | 🎯 Test Acc: 0.5275 | ⏱️ Time: 1.13s\n"
     ]
    },
    {
     "name": "stderr",
     "output_type": "stream",
     "text": [
      "📊 Epoch Progress:  47%|████▋     | 14/30 [00:16<00:18,  1.15s/it]"
     ]
    },
    {
     "name": "stdout",
     "output_type": "stream",
     "text": [
      "📅 Epoch 14/30 — 🧠 Loss: 0.6790 | 🎯 Test Acc: 0.5413 | ⏱️ Time: 1.15s\n",
      "✅ New best model saved!\n"
     ]
    },
    {
     "name": "stderr",
     "output_type": "stream",
     "text": [
      "📊 Epoch Progress:  50%|█████     | 15/30 [00:17<00:17,  1.17s/it]"
     ]
    },
    {
     "name": "stdout",
     "output_type": "stream",
     "text": [
      "📅 Epoch 15/30 — 🧠 Loss: 0.6789 | 🎯 Test Acc: 0.5275 | ⏱️ Time: 1.21s\n"
     ]
    },
    {
     "name": "stderr",
     "output_type": "stream",
     "text": [
      "📊 Epoch Progress:  53%|█████▎    | 16/30 [00:18<00:16,  1.16s/it]"
     ]
    },
    {
     "name": "stdout",
     "output_type": "stream",
     "text": [
      "📅 Epoch 16/30 — 🧠 Loss: 0.6777 | 🎯 Test Acc: 0.5300 | ⏱️ Time: 1.14s\n"
     ]
    },
    {
     "name": "stderr",
     "output_type": "stream",
     "text": [
      "📊 Epoch Progress:  57%|█████▋    | 17/30 [00:19<00:15,  1.15s/it]"
     ]
    },
    {
     "name": "stdout",
     "output_type": "stream",
     "text": [
      "📅 Epoch 17/30 — 🧠 Loss: 0.6763 | 🎯 Test Acc: 0.5343 | ⏱️ Time: 1.14s\n"
     ]
    },
    {
     "name": "stderr",
     "output_type": "stream",
     "text": [
      "📊 Epoch Progress:  60%|██████    | 18/30 [00:20<00:13,  1.16s/it]"
     ]
    },
    {
     "name": "stdout",
     "output_type": "stream",
     "text": [
      "📅 Epoch 18/30 — 🧠 Loss: 0.6783 | 🎯 Test Acc: 0.5390 | ⏱️ Time: 1.18s\n"
     ]
    },
    {
     "name": "stderr",
     "output_type": "stream",
     "text": [
      "📊 Epoch Progress:  63%|██████▎   | 19/30 [00:21<00:12,  1.17s/it]"
     ]
    },
    {
     "name": "stdout",
     "output_type": "stream",
     "text": [
      "📅 Epoch 19/30 — 🧠 Loss: 0.6756 | 🎯 Test Acc: 0.5460 | ⏱️ Time: 1.18s\n",
      "✅ New best model saved!\n"
     ]
    },
    {
     "name": "stderr",
     "output_type": "stream",
     "text": [
      "📊 Epoch Progress:  67%|██████▋   | 20/30 [00:23<00:11,  1.20s/it]"
     ]
    },
    {
     "name": "stdout",
     "output_type": "stream",
     "text": [
      "📅 Epoch 20/30 — 🧠 Loss: 0.6747 | 🎯 Test Acc: 0.5228 | ⏱️ Time: 1.28s\n"
     ]
    },
    {
     "name": "stderr",
     "output_type": "stream",
     "text": [
      "📊 Epoch Progress:  70%|███████   | 21/30 [00:24<00:11,  1.29s/it]"
     ]
    },
    {
     "name": "stdout",
     "output_type": "stream",
     "text": [
      "📅 Epoch 21/30 — 🧠 Loss: 0.6752 | 🎯 Test Acc: 0.5345 | ⏱️ Time: 1.49s\n"
     ]
    },
    {
     "name": "stderr",
     "output_type": "stream",
     "text": [
      "📊 Epoch Progress:  73%|███████▎  | 22/30 [00:26<00:10,  1.33s/it]"
     ]
    },
    {
     "name": "stdout",
     "output_type": "stream",
     "text": [
      "📅 Epoch 22/30 — 🧠 Loss: 0.6726 | 🎯 Test Acc: 0.5397 | ⏱️ Time: 1.42s\n"
     ]
    },
    {
     "name": "stderr",
     "output_type": "stream",
     "text": [
      "📊 Epoch Progress:  77%|███████▋  | 23/30 [00:27<00:09,  1.36s/it]"
     ]
    },
    {
     "name": "stdout",
     "output_type": "stream",
     "text": [
      "📅 Epoch 23/30 — 🧠 Loss: 0.6744 | 🎯 Test Acc: 0.5390 | ⏱️ Time: 1.43s\n"
     ]
    },
    {
     "name": "stderr",
     "output_type": "stream",
     "text": [
      "📊 Epoch Progress:  80%|████████  | 24/30 [00:29<00:08,  1.37s/it]"
     ]
    },
    {
     "name": "stdout",
     "output_type": "stream",
     "text": [
      "📅 Epoch 24/30 — 🧠 Loss: 0.6730 | 🎯 Test Acc: 0.5477 | ⏱️ Time: 1.41s\n",
      "✅ New best model saved!\n"
     ]
    },
    {
     "name": "stderr",
     "output_type": "stream",
     "text": [
      "📊 Epoch Progress:  83%|████████▎ | 25/30 [00:30<00:06,  1.39s/it]"
     ]
    },
    {
     "name": "stdout",
     "output_type": "stream",
     "text": [
      "📅 Epoch 25/30 — 🧠 Loss: 0.6723 | 🎯 Test Acc: 0.5407 | ⏱️ Time: 1.42s\n"
     ]
    },
    {
     "name": "stderr",
     "output_type": "stream",
     "text": [
      "📊 Epoch Progress:  87%|████████▋ | 26/30 [00:31<00:05,  1.40s/it]"
     ]
    },
    {
     "name": "stdout",
     "output_type": "stream",
     "text": [
      "📅 Epoch 26/30 — 🧠 Loss: 0.6704 | 🎯 Test Acc: 0.5403 | ⏱️ Time: 1.42s\n"
     ]
    },
    {
     "name": "stderr",
     "output_type": "stream",
     "text": [
      "📊 Epoch Progress:  90%|█████████ | 27/30 [00:33<00:04,  1.40s/it]"
     ]
    },
    {
     "name": "stdout",
     "output_type": "stream",
     "text": [
      "📅 Epoch 27/30 — 🧠 Loss: 0.6712 | 🎯 Test Acc: 0.5403 | ⏱️ Time: 1.40s\n"
     ]
    },
    {
     "name": "stderr",
     "output_type": "stream",
     "text": [
      "📊 Epoch Progress:  93%|█████████▎| 28/30 [00:34<00:02,  1.40s/it]"
     ]
    },
    {
     "name": "stdout",
     "output_type": "stream",
     "text": [
      "📅 Epoch 28/30 — 🧠 Loss: 0.6689 | 🎯 Test Acc: 0.5387 | ⏱️ Time: 1.41s\n"
     ]
    },
    {
     "name": "stderr",
     "output_type": "stream",
     "text": [
      "📊 Epoch Progress:  97%|█████████▋| 29/30 [00:36<00:01,  1.41s/it]"
     ]
    },
    {
     "name": "stdout",
     "output_type": "stream",
     "text": [
      "📅 Epoch 29/30 — 🧠 Loss: 0.6695 | 🎯 Test Acc: 0.5503 | ⏱️ Time: 1.43s\n",
      "✅ New best model saved!\n"
     ]
    },
    {
     "name": "stderr",
     "output_type": "stream",
     "text": [
      "📊 Epoch Progress: 100%|██████████| 30/30 [00:37<00:00,  1.25s/it]"
     ]
    },
    {
     "name": "stdout",
     "output_type": "stream",
     "text": [
      "📅 Epoch 30/30 — 🧠 Loss: 0.6709 | 🎯 Test Acc: 0.5302 | ⏱️ Time: 1.40s\n",
      "\n",
      "✅ Training done. Best test accuracy: 0.5503\n"
     ]
    },
    {
     "name": "stderr",
     "output_type": "stream",
     "text": [
      "\n"
     ]
    }
   ],
   "source": [
    "\n",
    "X_train, X_test, y_train, y_test = train_test_split(X, y, test_size=0.2, random_state=42)\n",
    "train_loader = DataLoader(TensorDataset(X_train, y_train), batch_size=32, shuffle=True)\n",
    "test_loader = DataLoader(TensorDataset(X_test, y_test), batch_size=32)\n",
    "\n",
    "device = torch.device(\"cuda\" if torch.cuda.is_available() else \"cpu\")\n",
    "model = FakeNewsClassifier().to(device)\n",
    "criterion = nn.BCEWithLogitsLoss()\n",
    "\n",
    "optimizer = optim.Adam(model.parameters(), lr=1e-3)\n",
    "\n",
    "epochs = 30\n",
    "best_acc = 0\n",
    "patience = 5\n",
    "wait = 0\n",
    "\n",
    "\n",
    "print(\"🏁 Starting training...\\n\")\n",
    "\n",
    "for epoch in trange(epochs, desc=\"📊 Epoch Progress\"):\n",
    "    start = time.time()\n",
    "\n",
    "    loss = train(model, train_loader, criterion, optimizer, device)\n",
    "    acc = evaluate(model, test_loader, device)\n",
    "\n",
    "    elapsed = time.time() - start\n",
    "    print(f\"📅 Epoch {epoch+1}/{epochs} — 🧠 Loss: {loss:.4f} | 🎯 Test Acc: {acc:.4f} | ⏱️ Time: {elapsed:.2f}s\")\n",
    "\n",
    "    if acc > best_acc:\n",
    "        best_acc = acc\n",
    "        wait = 0\n",
    "        torch.save(model.state_dict(), \"best_fake_news.pt\")\n",
    "        print(\"✅ New best model saved!\")\n",
    "    else:\n",
    "        wait += 1\n",
    "        if wait >= patience:\n",
    "            print(\"⏹️ Early stopping triggered.\")\n",
    "            break\n",
    "        \n",
    "print(f\"\\n✅ Training done. Best test accuracy: {best_acc:.4f}\")"
   ]
  },
  {
   "cell_type": "code",
   "execution_count": 23,
   "metadata": {},
   "outputs": [
    {
     "name": "stderr",
     "output_type": "stream",
     "text": [
      "[I 2025-06-23 11:10:38,316] A new study created in memory with name: no-name-0f25f17d-1815-4afa-9b03-cbe4401a1c59\n",
      "[I 2025-06-23 11:10:39,097] Trial 0 finished with value: 0.51375 and parameters: {'hidden1': 263, 'hidden2': 206, 'dropout': 0.3551078423514453, 'lr': 0.002148514716580759}. Best is trial 0 with value: 0.51375.\n",
      "[I 2025-06-23 11:10:40,556] Trial 1 finished with value: 0.51325 and parameters: {'hidden1': 748, 'hidden2': 448, 'dropout': 0.27022359692632575, 'lr': 0.00013905422669027197}. Best is trial 0 with value: 0.51375.\n",
      "[I 2025-06-23 11:10:41,569] Trial 2 finished with value: 0.51375 and parameters: {'hidden1': 696, 'hidden2': 223, 'dropout': 0.2374188795441647, 'lr': 0.0003415413430920346}. Best is trial 0 with value: 0.51375.\n",
      "[I 2025-06-23 11:10:42,608] Trial 3 finished with value: 0.51375 and parameters: {'hidden1': 326, 'hidden2': 374, 'dropout': 0.400344898037102, 'lr': 0.0013005795378793516}. Best is trial 0 with value: 0.51375.\n",
      "[I 2025-06-23 11:10:43,601] Trial 4 finished with value: 0.51475 and parameters: {'hidden1': 407, 'hidden2': 358, 'dropout': 0.42044711351871167, 'lr': 0.0005082780627599977}. Best is trial 4 with value: 0.51475.\n",
      "[I 2025-06-23 11:10:44,464] Trial 5 finished with value: 0.51375 and parameters: {'hidden1': 372, 'hidden2': 216, 'dropout': 0.4060864573672699, 'lr': 0.006321829949076809}. Best is trial 4 with value: 0.51475.\n",
      "[I 2025-06-23 11:10:45,834] Trial 6 finished with value: 0.51375 and parameters: {'hidden1': 942, 'hidden2': 392, 'dropout': 0.3349602166193668, 'lr': 0.0003568988947214256}. Best is trial 4 with value: 0.51475.\n",
      "[I 2025-06-23 11:10:46,810] Trial 7 finished with value: 0.51375 and parameters: {'hidden1': 502, 'hidden2': 242, 'dropout': 0.3409996217940774, 'lr': 0.005857167228698121}. Best is trial 4 with value: 0.51475.\n",
      "[I 2025-06-23 11:10:48,201] Trial 8 finished with value: 0.51375 and parameters: {'hidden1': 989, 'hidden2': 363, 'dropout': 0.35493315599179653, 'lr': 0.0004556307101797396}. Best is trial 4 with value: 0.51475.\n",
      "[I 2025-06-23 11:10:49,252] Trial 9 finished with value: 0.51375 and parameters: {'hidden1': 439, 'hidden2': 415, 'dropout': 0.2165367352390366, 'lr': 0.002835389994921984}. Best is trial 4 with value: 0.51475.\n",
      "[I 2025-06-23 11:10:50,467] Trial 10 finished with value: 0.51325 and parameters: {'hidden1': 554, 'hidden2': 510, 'dropout': 0.49568151476422206, 'lr': 0.0001043941797761689}. Best is trial 4 with value: 0.51475.\n",
      "[I 2025-06-23 11:10:51,324] Trial 11 finished with value: 0.51375 and parameters: {'hidden1': 275, 'hidden2': 153, 'dropout': 0.46245054443019873, 'lr': 0.0012172227402389498}. Best is trial 4 with value: 0.51475.\n",
      "[I 2025-06-23 11:10:52,265] Trial 12 finished with value: 0.51375 and parameters: {'hidden1': 286, 'hidden2': 298, 'dropout': 0.4208773077405362, 'lr': 0.00243174816492205}. Best is trial 4 with value: 0.51475.\n",
      "[I 2025-06-23 11:10:53,355] Trial 13 finished with value: 0.51375 and parameters: {'hidden1': 574, 'hidden2': 317, 'dropout': 0.314385423051066, 'lr': 0.000628661134775799}. Best is trial 4 with value: 0.51475.\n",
      "[I 2025-06-23 11:10:54,291] Trial 14 finished with value: 0.51375 and parameters: {'hidden1': 391, 'hidden2': 131, 'dropout': 0.3757542875495014, 'lr': 0.0029399766370918814}. Best is trial 4 with value: 0.51475.\n",
      "[I 2025-06-23 11:10:55,265] Trial 15 finished with value: 0.51325 and parameters: {'hidden1': 452, 'hidden2': 279, 'dropout': 0.43623470993657226, 'lr': 0.00020140587707816513}. Best is trial 4 with value: 0.51475.\n",
      "[I 2025-06-23 11:10:56,287] Trial 16 finished with value: 0.51375 and parameters: {'hidden1': 637, 'hidden2': 179, 'dropout': 0.2879668906686105, 'lr': 0.0006412703368517082}. Best is trial 4 with value: 0.51475.\n",
      "[I 2025-06-23 11:10:57,666] Trial 17 finished with value: 0.51375 and parameters: {'hidden1': 844, 'hidden2': 341, 'dropout': 0.37843295708513586, 'lr': 0.0016888082806761585}. Best is trial 4 with value: 0.51475.\n",
      "[I 2025-06-23 11:10:58,555] Trial 18 finished with value: 0.51375 and parameters: {'hidden1': 260, 'hidden2': 258, 'dropout': 0.449580430229402, 'lr': 0.0008242992707350332}. Best is trial 4 with value: 0.51475.\n",
      "[I 2025-06-23 11:10:59,598] Trial 19 finished with value: 0.5155 and parameters: {'hidden1': 364, 'hidden2': 456, 'dropout': 0.4849377999386608, 'lr': 0.00020915529583129307}. Best is trial 19 with value: 0.5155.\n"
     ]
    },
    {
     "name": "stdout",
     "output_type": "stream",
     "text": [
      "🔍 Best hyperparams: {'hidden1': 364, 'hidden2': 456, 'dropout': 0.4849377999386608, 'lr': 0.00020915529583129307}\n"
     ]
    }
   ],
   "source": [
    "def objective(trial):\n",
    "    hidden1 = trial.suggest_int(\"hidden1\", 256, 1024)\n",
    "    hidden2 = trial.suggest_int(\"hidden2\", 128, 512)\n",
    "    dropout = trial.suggest_float(\"dropout\", 0.2, 0.5)\n",
    "    lr = trial.suggest_float(\"lr\", 1e-4, 1e-2, log=True)\n",
    "\n",
    "    class TrialModel(nn.Module):\n",
    "        def __init__(self, input_dim=389):\n",
    "            super().__init__()\n",
    "            self.net = nn.Sequential(\n",
    "                nn.Linear(input_dim, hidden1),\n",
    "                nn.ReLU(),\n",
    "                nn.Dropout(dropout),\n",
    "                nn.Linear(hidden1, hidden2),\n",
    "                nn.ReLU(),\n",
    "                nn.Dropout(dropout),\n",
    "                nn.Linear(hidden2, 1)\n",
    "            )\n",
    "\n",
    "        def forward(self, x):\n",
    "            return self.net(x).squeeze(1)\n",
    "\n",
    "    model = TrialModel().to(device)\n",
    "    optimizer = optim.Adam(model.parameters(), lr=lr)\n",
    "    criterion = nn.BCEWithLogitsLoss()\n",
    "\n",
    "    # one epoch for speed (increase if needed)\n",
    "    train(model, train_loader, criterion, optimizer, device)\n",
    "    acc = evaluate(model, test_loader, device)\n",
    "    return acc\n",
    "study = optuna.create_study(direction=\"maximize\")\n",
    "study.optimize(objective, n_trials=20)\n",
    "\n",
    "\n",
    "print(\"🔍 Best hyperparams:\", study.best_params)"
   ]
  },
  {
   "cell_type": "code",
   "execution_count": 28,
   "metadata": {},
   "outputs": [
    {
     "name": "stdout",
     "output_type": "stream",
     "text": [
      "📦 Preparing dataset...\n",
      "🏁 Starting training...\n",
      "\n"
     ]
    },
    {
     "name": "stderr",
     "output_type": "stream",
     "text": [
      "📊 Epoch Progress:   2%|▏         | 1/50 [00:01<01:07,  1.37s/it]"
     ]
    },
    {
     "name": "stdout",
     "output_type": "stream",
     "text": [
      "📅 Epoch 1/50 — 🧠 Loss: 0.7165 | 🎯 Test Acc: 0.5138 | ⏱️ Time: 1.37s\n",
      "✅ New best model saved!\n"
     ]
    },
    {
     "name": "stderr",
     "output_type": "stream",
     "text": [
      "📊 Epoch Progress:   4%|▍         | 2/50 [00:02<01:05,  1.37s/it]"
     ]
    },
    {
     "name": "stdout",
     "output_type": "stream",
     "text": [
      "📅 Epoch 2/50 — 🧠 Loss: 0.7071 | 🎯 Test Acc: 0.5135 | ⏱️ Time: 1.36s\n"
     ]
    },
    {
     "name": "stderr",
     "output_type": "stream",
     "text": [
      "📊 Epoch Progress:   6%|▌         | 3/50 [00:04<01:04,  1.37s/it]"
     ]
    },
    {
     "name": "stdout",
     "output_type": "stream",
     "text": [
      "📅 Epoch 3/50 — 🧠 Loss: 0.7019 | 🎯 Test Acc: 0.5138 | ⏱️ Time: 1.37s\n"
     ]
    },
    {
     "name": "stderr",
     "output_type": "stream",
     "text": [
      "📊 Epoch Progress:   8%|▊         | 4/50 [00:05<01:02,  1.36s/it]"
     ]
    },
    {
     "name": "stdout",
     "output_type": "stream",
     "text": [
      "📅 Epoch 4/50 — 🧠 Loss: 0.6972 | 🎯 Test Acc: 0.5162 | ⏱️ Time: 1.36s\n",
      "✅ New best model saved!\n"
     ]
    },
    {
     "name": "stderr",
     "output_type": "stream",
     "text": [
      "📊 Epoch Progress:  10%|█         | 5/50 [00:06<01:01,  1.38s/it]"
     ]
    },
    {
     "name": "stdout",
     "output_type": "stream",
     "text": [
      "📅 Epoch 5/50 — 🧠 Loss: 0.6933 | 🎯 Test Acc: 0.5210 | ⏱️ Time: 1.39s\n",
      "✅ New best model saved!\n"
     ]
    },
    {
     "name": "stderr",
     "output_type": "stream",
     "text": [
      "📊 Epoch Progress:  12%|█▏        | 6/50 [00:08<01:01,  1.39s/it]"
     ]
    },
    {
     "name": "stdout",
     "output_type": "stream",
     "text": [
      "📅 Epoch 6/50 — 🧠 Loss: 0.6901 | 🎯 Test Acc: 0.5238 | ⏱️ Time: 1.41s\n",
      "✅ New best model saved!\n"
     ]
    },
    {
     "name": "stderr",
     "output_type": "stream",
     "text": [
      "📊 Epoch Progress:  14%|█▍        | 7/50 [00:09<00:59,  1.39s/it]"
     ]
    },
    {
     "name": "stdout",
     "output_type": "stream",
     "text": [
      "📅 Epoch 7/50 — 🧠 Loss: 0.6873 | 🎯 Test Acc: 0.5182 | ⏱️ Time: 1.40s\n"
     ]
    },
    {
     "name": "stderr",
     "output_type": "stream",
     "text": [
      "📊 Epoch Progress:  16%|█▌        | 8/50 [00:11<00:58,  1.39s/it]"
     ]
    },
    {
     "name": "stdout",
     "output_type": "stream",
     "text": [
      "📅 Epoch 8/50 — 🧠 Loss: 0.6861 | 🎯 Test Acc: 0.5220 | ⏱️ Time: 1.39s\n"
     ]
    },
    {
     "name": "stderr",
     "output_type": "stream",
     "text": [
      "📊 Epoch Progress:  18%|█▊        | 9/50 [00:12<00:56,  1.38s/it]"
     ]
    },
    {
     "name": "stdout",
     "output_type": "stream",
     "text": [
      "📅 Epoch 9/50 — 🧠 Loss: 0.6857 | 🎯 Test Acc: 0.5278 | ⏱️ Time: 1.35s\n",
      "✅ New best model saved!\n"
     ]
    },
    {
     "name": "stderr",
     "output_type": "stream",
     "text": [
      "📊 Epoch Progress:  20%|██        | 10/50 [00:13<00:55,  1.39s/it]"
     ]
    },
    {
     "name": "stdout",
     "output_type": "stream",
     "text": [
      "📅 Epoch 10/50 — 🧠 Loss: 0.6847 | 🎯 Test Acc: 0.5235 | ⏱️ Time: 1.42s\n"
     ]
    },
    {
     "name": "stderr",
     "output_type": "stream",
     "text": [
      "📊 Epoch Progress:  22%|██▏       | 11/50 [00:15<01:00,  1.54s/it]"
     ]
    },
    {
     "name": "stdout",
     "output_type": "stream",
     "text": [
      "📅 Epoch 11/50 — 🧠 Loss: 0.6832 | 🎯 Test Acc: 0.5235 | ⏱️ Time: 1.88s\n"
     ]
    },
    {
     "name": "stderr",
     "output_type": "stream",
     "text": [
      "📊 Epoch Progress:  24%|██▍       | 12/50 [00:17<00:59,  1.57s/it]"
     ]
    },
    {
     "name": "stdout",
     "output_type": "stream",
     "text": [
      "📅 Epoch 12/50 — 🧠 Loss: 0.6830 | 🎯 Test Acc: 0.5280 | ⏱️ Time: 1.64s\n",
      "✅ New best model saved!\n"
     ]
    },
    {
     "name": "stderr",
     "output_type": "stream",
     "text": [
      "📊 Epoch Progress:  26%|██▌       | 13/50 [00:18<00:56,  1.53s/it]"
     ]
    },
    {
     "name": "stdout",
     "output_type": "stream",
     "text": [
      "📅 Epoch 13/50 — 🧠 Loss: 0.6815 | 🎯 Test Acc: 0.5308 | ⏱️ Time: 1.43s\n",
      "✅ New best model saved!\n"
     ]
    },
    {
     "name": "stderr",
     "output_type": "stream",
     "text": [
      "📊 Epoch Progress:  28%|██▊       | 14/50 [00:20<00:54,  1.52s/it]"
     ]
    },
    {
     "name": "stdout",
     "output_type": "stream",
     "text": [
      "📅 Epoch 14/50 — 🧠 Loss: 0.6806 | 🎯 Test Acc: 0.5353 | ⏱️ Time: 1.49s\n",
      "✅ New best model saved!\n"
     ]
    },
    {
     "name": "stderr",
     "output_type": "stream",
     "text": [
      "📊 Epoch Progress:  30%|███       | 15/50 [00:21<00:52,  1.50s/it]"
     ]
    },
    {
     "name": "stdout",
     "output_type": "stream",
     "text": [
      "📅 Epoch 15/50 — 🧠 Loss: 0.6798 | 🎯 Test Acc: 0.5312 | ⏱️ Time: 1.47s\n"
     ]
    },
    {
     "name": "stderr",
     "output_type": "stream",
     "text": [
      "📊 Epoch Progress:  32%|███▏      | 16/50 [00:23<00:51,  1.51s/it]"
     ]
    },
    {
     "name": "stdout",
     "output_type": "stream",
     "text": [
      "📅 Epoch 16/50 — 🧠 Loss: 0.6794 | 🎯 Test Acc: 0.5252 | ⏱️ Time: 1.51s\n"
     ]
    },
    {
     "name": "stderr",
     "output_type": "stream",
     "text": [
      "📊 Epoch Progress:  34%|███▍      | 17/50 [00:24<00:50,  1.52s/it]"
     ]
    },
    {
     "name": "stdout",
     "output_type": "stream",
     "text": [
      "📅 Epoch 17/50 — 🧠 Loss: 0.6792 | 🎯 Test Acc: 0.5335 | ⏱️ Time: 1.56s\n"
     ]
    },
    {
     "name": "stderr",
     "output_type": "stream",
     "text": [
      "📊 Epoch Progress:  36%|███▌      | 18/50 [00:26<00:50,  1.59s/it]"
     ]
    },
    {
     "name": "stdout",
     "output_type": "stream",
     "text": [
      "📅 Epoch 18/50 — 🧠 Loss: 0.6775 | 🎯 Test Acc: 0.5327 | ⏱️ Time: 1.73s\n"
     ]
    },
    {
     "name": "stderr",
     "output_type": "stream",
     "text": [
      "📊 Epoch Progress:  38%|███▊      | 19/50 [00:28<00:50,  1.63s/it]"
     ]
    },
    {
     "name": "stdout",
     "output_type": "stream",
     "text": [
      "📅 Epoch 19/50 — 🧠 Loss: 0.6780 | 🎯 Test Acc: 0.5417 | ⏱️ Time: 1.74s\n",
      "✅ New best model saved!\n"
     ]
    },
    {
     "name": "stderr",
     "output_type": "stream",
     "text": [
      "📊 Epoch Progress:  40%|████      | 20/50 [00:30<00:50,  1.67s/it]"
     ]
    },
    {
     "name": "stdout",
     "output_type": "stream",
     "text": [
      "📅 Epoch 20/50 — 🧠 Loss: 0.6773 | 🎯 Test Acc: 0.5325 | ⏱️ Time: 1.76s\n"
     ]
    },
    {
     "name": "stderr",
     "output_type": "stream",
     "text": [
      "📊 Epoch Progress:  42%|████▏     | 21/50 [00:31<00:48,  1.68s/it]"
     ]
    },
    {
     "name": "stdout",
     "output_type": "stream",
     "text": [
      "📅 Epoch 21/50 — 🧠 Loss: 0.6776 | 🎯 Test Acc: 0.5390 | ⏱️ Time: 1.70s\n"
     ]
    },
    {
     "name": "stderr",
     "output_type": "stream",
     "text": [
      "📊 Epoch Progress:  44%|████▍     | 22/50 [00:33<00:47,  1.70s/it]"
     ]
    },
    {
     "name": "stdout",
     "output_type": "stream",
     "text": [
      "📅 Epoch 22/50 — 🧠 Loss: 0.6767 | 🎯 Test Acc: 0.5323 | ⏱️ Time: 1.74s\n"
     ]
    },
    {
     "name": "stderr",
     "output_type": "stream",
     "text": [
      "📊 Epoch Progress:  46%|████▌     | 23/50 [00:35<00:45,  1.69s/it]"
     ]
    },
    {
     "name": "stdout",
     "output_type": "stream",
     "text": [
      "📅 Epoch 23/50 — 🧠 Loss: 0.6756 | 🎯 Test Acc: 0.5343 | ⏱️ Time: 1.68s\n"
     ]
    },
    {
     "name": "stderr",
     "output_type": "stream",
     "text": [
      "📊 Epoch Progress:  46%|████▌     | 23/50 [00:36<00:43,  1.60s/it]"
     ]
    },
    {
     "name": "stdout",
     "output_type": "stream",
     "text": [
      "📅 Epoch 24/50 — 🧠 Loss: 0.6744 | 🎯 Test Acc: 0.5373 | ⏱️ Time: 1.69s\n",
      "⏹️ Early stopping triggered.\n",
      "\n",
      "✅ Training done. Best test accuracy: 0.5417\n"
     ]
    },
    {
     "name": "stderr",
     "output_type": "stream",
     "text": [
      "\n"
     ]
    }
   ],
   "source": [
    "# === Configurable Section ===\n",
    "best_params = {\n",
    "    'hidden1': 364,\n",
    "    'hidden2': 456,\n",
    "    'dropout': 0.4849377999386608,\n",
    "    'lr': 0.00020915529583129307,\n",
    "    'batch_size': 32,\n",
    "    'epochs': 50,\n",
    "    'patience': 5\n",
    "}\n",
    "\n",
    "# --- Model Definition ---\n",
    "class FakeNewsClassifier(nn.Module):\n",
    "    def __init__(self, input_dim=389, hidden1=256, hidden2=128, dropout=0.4):\n",
    "        super(FakeNewsClassifier, self).__init__()\n",
    "        self.net = nn.Sequential(\n",
    "            nn.Linear(input_dim, hidden1),\n",
    "            nn.BatchNorm1d(hidden1),\n",
    "            nn.LeakyReLU(),\n",
    "            nn.Dropout(dropout),\n",
    "            nn.Linear(hidden1, hidden2),\n",
    "            nn.BatchNorm1d(hidden2),\n",
    "            nn.LeakyReLU(),\n",
    "            nn.Dropout(dropout),\n",
    "            nn.Linear(hidden2, 1)\n",
    "        )\n",
    "\n",
    "    def forward(self, x):\n",
    "        return self.net(x).squeeze(1)\n",
    "\n",
    "# --- Training Logic ---\n",
    "def train(model, loader, criterion, optimizer, device):\n",
    "    model.train()\n",
    "    total_loss = 0\n",
    "    loop = tqdm(loader, desc=\"🛠️ Training\", leave=False)\n",
    "    for xb, yb in loop:\n",
    "        xb, yb = xb.to(device), yb.to(device).float()\n",
    "        optimizer.zero_grad()\n",
    "        out = model(xb)\n",
    "        loss = criterion(out, yb)\n",
    "        loss.backward()\n",
    "        optimizer.step()\n",
    "        total_loss += loss.item() * xb.size(0)\n",
    "        loop.set_postfix(loss=loss.item())\n",
    "    return total_loss / len(loader.dataset)\n",
    "\n",
    "def evaluate(model, loader, device):\n",
    "    model.eval()\n",
    "    correct, total = 0, 0\n",
    "    with torch.no_grad():\n",
    "        for xb, yb in loader:\n",
    "            xb, yb = xb.to(device), yb.to(device)\n",
    "            preds = (model(xb) > 0.5).long()\n",
    "            correct += (preds == yb).sum().item()\n",
    "            total += yb.size(0)\n",
    "    return correct / total\n",
    "\n",
    "# --- Runner Function ---\n",
    "def run_training(df, text_vectors, params=best_params):\n",
    "    print(\"📦 Preparing dataset...\")\n",
    "    X_train, X_test, y_train, y_test = train_test_split(X, y, test_size=0.2, random_state=42)\n",
    "\n",
    "    train_loader = DataLoader(TensorDataset(X_train, y_train), batch_size=params['batch_size'], shuffle=True)\n",
    "    test_loader = DataLoader(TensorDataset(X_test, y_test), batch_size=params['batch_size'])\n",
    "\n",
    "    device = torch.device(\"cuda\" if torch.cuda.is_available() else \"cpu\")\n",
    "    model = FakeNewsClassifier(\n",
    "        input_dim=X.shape[1],\n",
    "        hidden1=params['hidden1'],\n",
    "        hidden2=params['hidden2'],\n",
    "        dropout=params['dropout']\n",
    "    ).to(device)\n",
    "\n",
    "    optimizer = optim.Adam(model.parameters(), lr=params['lr'])\n",
    "    criterion = nn.BCEWithLogitsLoss()\n",
    "\n",
    "    best_acc = 0\n",
    "    wait = 0\n",
    "\n",
    "    print(\"🏁 Starting training...\\n\")\n",
    "    for epoch in trange(params['epochs'], desc=\"📊 Epoch Progress\"):\n",
    "        start = time.time()\n",
    "\n",
    "        loss = train(model, train_loader, criterion, optimizer, device)\n",
    "        acc = evaluate(model, test_loader, device)\n",
    "\n",
    "        elapsed = time.time() - start\n",
    "        print(f\"📅 Epoch {epoch+1}/{params['epochs']} — 🧠 Loss: {loss:.4f} | 🎯 Test Acc: {acc:.4f} | ⏱️ Time: {elapsed:.2f}s\")\n",
    "\n",
    "        if acc > best_acc:\n",
    "            best_acc = acc\n",
    "            wait = 0\n",
    "            torch.save(model.state_dict(), \"best_fake_news.pt\")\n",
    "            print(\"✅ New best model saved!\")\n",
    "        else:\n",
    "            wait += 1\n",
    "            if wait >= params['patience']:\n",
    "                print(\"⏹️ Early stopping triggered.\")\n",
    "                break\n",
    "\n",
    "    print(f\"\\n✅ Training done. Best test accuracy: {best_acc:.4f}\")\n",
    "    return model\n",
    "\n",
    "# === Inference Helper (Optional) ===\n",
    "def predict(model, X_tensor, threshold=0.5):\n",
    "    model.eval()\n",
    "    with torch.no_grad():\n",
    "        probs = torch.sigmoid(model(X_tensor))\n",
    "        return (probs > threshold).long()\n",
    "    \n",
    "\n",
    "model = run_training(sample_df, text_embeddings)\n"
   ]
  },
  {
   "cell_type": "markdown",
   "metadata": {},
   "source": [
    "## Training Multiple Classifiers"
   ]
  },
  {
   "cell_type": "code",
   "execution_count": 12,
   "metadata": {},
   "outputs": [
    {
     "name": "stdout",
     "output_type": "stream",
     "text": [
      "🚀 Starting Multi-Classifier Comparison for Fake News Detection\n",
      "============================================================\n"
     ]
    },
    {
     "name": "stderr",
     "output_type": "stream",
     "text": [
      "🔍 Preprocessing articles:   0%|          | 0/20000 [00:00<?, ?it/s]"
     ]
    },
    {
     "name": "stderr",
     "output_type": "stream",
     "text": [
      "🔍 Preprocessing articles: 100%|██████████| 20000/20000 [21:09<00:00, 15.75it/s] \n"
     ]
    },
    {
     "name": "stdout",
     "output_type": "stream",
     "text": [
      "📊 Dataset Info:\n",
      "   • Total samples: 20000\n",
      "   • Features: 389\n",
      "   • Fake news: 10000\n",
      "   • Real news: 10000\n",
      "\n"
     ]
    },
    {
     "name": "stderr",
     "output_type": "stream",
     "text": [
      "XGBoost Training:   0%|          | 0/100 [00:00<?, ?it/s]"
     ]
    },
    {
     "name": "stdout",
     "output_type": "stream",
     "text": [
      "\n",
      "🔄 [1/6] Training 🔵 Logistic Regression (Linear baseline classifier)...\n",
      "   🔁 Cross-validation:\n"
     ]
    },
    {
     "name": "stderr",
     "output_type": "stream",
     "text": [
      "   ⏳ CV Progress: 100%|██████████| 5/5 [00:27<00:00,  5.49s/it]\n"
     ]
    },
    {
     "name": "stdout",
     "output_type": "stream",
     "text": [
      "   ✅ Accuracy: 0.5493\n",
      "   📊 CV Score: 0.5612 (±0.0061)\n",
      "\n",
      "🔄 [2/6] Training 🟣 Random Forest (Ensemble method for non-linear patterns)...\n",
      "   🔁 Cross-validation:\n"
     ]
    },
    {
     "name": "stderr",
     "output_type": "stream",
     "text": [
      "   ⏳ CV Progress: 100%|██████████| 5/5 [00:09<00:00,  1.95s/it]\n",
      "XGBoost Training:   1%|          | 1/100 [00:46<1:16:21, 46.28s/it]"
     ]
    },
    {
     "name": "stdout",
     "output_type": "stream",
     "text": [
      "   ✅ Accuracy: 0.4840\n",
      "   📊 CV Score: 0.5019 (±0.0115)\n",
      "\n",
      "🔄 [3/6] Training 🔶 XGBoost (Gradient boosting for mixed features)...\n"
     ]
    },
    {
     "name": "stderr",
     "output_type": "stream",
     "text": [
      "XGBoost Training: 100%|██████████| 100/100 [00:48<00:00,  2.07it/s]\n"
     ]
    },
    {
     "name": "stdout",
     "output_type": "stream",
     "text": [
      "   ❌ Error with 🔶 XGBoost: after_training should return the model\n",
      "\n",
      "🔄 [3/6] Training 🟢 SVM (RBF) (Support Vector Machine with RBF kernel)...\n",
      "   🔁 Cross-validation:\n"
     ]
    },
    {
     "name": "stderr",
     "output_type": "stream",
     "text": [
      "   ⏳ CV Progress: 100%|██████████| 5/5 [10:52<00:00, 130.50s/it]\n"
     ]
    },
    {
     "name": "stdout",
     "output_type": "stream",
     "text": [
      "   ✅ Accuracy: 0.5262\n",
      "   📊 CV Score: 0.5451 (±0.0040)\n",
      "\n",
      "🔄 [4/6] Training 🟢 SVM (Linear) (Linear Support Vector Machine)...\n",
      "   🔁 Cross-validation:\n"
     ]
    },
    {
     "name": "stderr",
     "output_type": "stream",
     "text": [
      "   ⏳ CV Progress: 100%|██████████| 5/5 [20:06:39<00:00, 14479.90s/it]  \n"
     ]
    },
    {
     "name": "stdout",
     "output_type": "stream",
     "text": [
      "   ✅ Accuracy: 0.5507\n",
      "   📊 CV Score: 0.5565 (±0.0071)\n",
      "\n",
      "🔄 [5/6] Training 🟠 Gaussian Naive Bayes (Probabilistic classifier)...\n",
      "   🔁 Cross-validation:\n"
     ]
    },
    {
     "name": "stderr",
     "output_type": "stream",
     "text": [
      "   ⏳ CV Progress: 100%|██████████| 5/5 [00:00<00:00, 31.87it/s]\n"
     ]
    },
    {
     "name": "stdout",
     "output_type": "stream",
     "text": [
      "   ✅ Accuracy: 0.5420\n",
      "   📊 CV Score: 0.5494 (±0.0085)\n",
      "\n",
      "🔥 Training Transformer-Based Classifier (DistilBERT)...\n",
      "\n",
      "================================================================================\n",
      "📈 FINAL RESULTS COMPARISON\n",
      "================================================================================\n",
      "\n",
      "🏆 RANKING BY ACCURACY:\n",
      "--------------------------------------------------------------------------------\n",
      " 5. 🟢 SVM (Linear)                 Acc: 0.5507 | F1: 0.5452 | Prec: 0.5520 | Recall: 0.5385\n",
      " 4. 🔵 Logistic Regression          Acc: 0.5493 | F1: 0.5491 | Prec: 0.5493 | Recall: 0.5490\n",
      " 3. 🟠 Gaussian Naive Bayes         Acc: 0.5420 | F1: 0.5300 | Prec: 0.5443 | Recall: 0.5165\n",
      " 2. 🟢 SVM (RBF)                    Acc: 0.5262 | F1: 0.5155 | Prec: 0.5275 | Recall: 0.5040\n",
      " 1. 🟣 Random Forest                Acc: 0.4840 | F1: 0.4748 | Prec: 0.4834 | Recall: 0.4665\n",
      "\n",
      "📊 DETAILED METRICS:\n",
      "--------------------------------------------------------------------------------\n",
      "            Classifier  Accuracy  Precision  Recall  F1-Score  CV_Mean  CV_Std\n",
      "        🟢 SVM (Linear)    0.5507     0.5520  0.5385    0.5452   0.5565  0.0071\n",
      " 🔵 Logistic Regression    0.5493     0.5493  0.5490    0.5491   0.5612  0.0061\n",
      "🟠 Gaussian Naive Bayes    0.5420     0.5443  0.5165    0.5300   0.5494  0.0085\n",
      "           🟢 SVM (RBF)    0.5262     0.5275  0.5040    0.5155   0.5451  0.0040\n",
      "       🟣 Random Forest    0.4840     0.4834  0.4665    0.4748   0.5019  0.0115\n",
      "\n",
      "📊 Creating visualizations...\n"
     ]
    },
    {
     "data": {
      "image/png": "[encoded data removed]",
      "text/plain": [
       "<Figure size 1500x1200 with 4 Axes>"
      ]
     },
     "metadata": {},
     "output_type": "display_data"
    },
    {
     "name": "stdout",
     "output_type": "stream",
     "text": [
      "\n",
      "================================================================================\n",
      "💡 RECOMMENDATIONS & INSIGHTS\n",
      "================================================================================\n",
      "\n",
      "🏆 BEST PERFORMER: 🟢 SVM (Linear)\n",
      "   • Accuracy: 0.5507\n",
      "   • F1-Score: 0.5452\n",
      "   • Description: Linear Support Vector Machine\n",
      "\n",
      "🔍 ANALYSIS:\n",
      "   🔴 Low Performers (<65%): 🟢 SVM (Linear), 🔵 Logistic Regression, 🟠 Gaussian Naive Bayes, 🟢 SVM (RBF), 🟣 Random Forest\n",
      "\n",
      "🚀 NEXT STEPS:\n",
      "   1. Fine-tune hyperparameters for top 3 performers\n",
      "   2. Try ensemble methods combining best classifiers\n",
      "   3. Engineer additional features based on linguistic analysis\n",
      "   4. Consider fine-tuning BERT/RoBERTa on your specific dataset\n",
      "   5. Analyze misclassified examples for pattern insights\n",
      "\n",
      "⚡ QUICK WINS:\n",
      "   • Your custom features (paraphrasing, subjectivity, etc.) are valuable!\n",
      "   • Consider feature selection to remove less important features\n",
      "   • Try different text preprocessing approaches\n",
      "   • Experiment with different embedding models (sentence-transformers)\n",
      "\n",
      "================================================================================\n",
      "✅ ANALYSIS COMPLETE! Check the visualizations above.\n",
      "================================================================================\n"
     ]
    }
   ],
   "source": [
    "# =============================================================================\n",
    "# STEP 1: PREPARE DATA\n",
    "# =============================================================================\n",
    "\n",
    "print(\"🚀 Starting Multi-Classifier Comparison for Fake News Detection\")\n",
    "print(\"=\" * 60)\n",
    "\n",
    "# Assuming you have your df and text_vectors ready\n",
    "# X, y = prepare_dataset(sample_df, text_embeddings)  # Your existing function\n",
    "\n",
    "# Convert to numpy for sklearn compatibility\n",
    "X_np = X.numpy()\n",
    "y_np = y.numpy()\n",
    "\n",
    "print(f\"📊 Dataset Info:\")\n",
    "print(f\"   • Total samples: {len(X_np)}\")\n",
    "print(f\"   • Features: {X_np.shape[1]}\")\n",
    "print(f\"   • Fake news: {sum(y_np == 1)}\")\n",
    "print(f\"   • Real news: {sum(y_np == 0)}\")\n",
    "print()\n",
    "\n",
    "# Split the data\n",
    "X_train, X_test, y_train, y_test = train_test_split(\n",
    "    X_np, y_np, test_size=0.2, random_state=42, stratify=y_np\n",
    ")\n",
    "\n",
    "# =============================================================================\n",
    "# STEP 2: FEATURE SCALING (for some algorithms)\n",
    "# =============================================================================\n",
    "\n",
    "scaler_standard = StandardScaler()\n",
    "scaler_minmax = MinMaxScaler()\n",
    "\n",
    "X_train_scaled = scaler_standard.fit_transform(X_train)\n",
    "X_test_scaled = scaler_standard.transform(X_test)\n",
    "\n",
    "X_train_minmax = scaler_minmax.fit_transform(X_train)\n",
    "X_test_minmax = scaler_minmax.transform(X_test)\n",
    "\n",
    "\n",
    "\n",
    "from xgboost.callback import TrainingCallback\n",
    "\n",
    "class TQDMCallback(TrainingCallback):\n",
    "    def __init__(self, total_boost_rounds):\n",
    "        self.pbar = tqdm(total=total_boost_rounds, desc=\"XGBoost Training\")\n",
    "\n",
    "    def after_iteration(self, model, epoch, evals_log):\n",
    "        self.pbar.update(1)\n",
    "        return False\n",
    "\n",
    "    def after_training(self, model):\n",
    "        self.pbar.close()\n",
    "        return model  \n",
    "# =============================================================================\n",
    "# STEP 3: CLASSIFIER DEFINITIONS\n",
    "# =============================================================================\n",
    "\n",
    "classifiers = {\n",
    "    \"🔵 Logistic Regression\": {\n",
    "        \"model\": LogisticRegression(random_state=42, max_iter=1000),\n",
    "        \"data\": \"scaled\",\n",
    "        \"description\": \"Linear baseline classifier\"\n",
    "    },\n",
    "    \n",
    "    \"🟣 Random Forest\": {\n",
    "        \"model\": RandomForestClassifier(n_estimators=100, random_state=42, n_jobs=-1),\n",
    "        \"data\": \"original\",\n",
    "        \"description\": \"Ensemble method for non-linear patterns\"\n",
    "    },\n",
    "    \n",
    "    \"🔶 XGBoost\": {\n",
    "        \"model\": xgb.XGBClassifier(\n",
    "            n_estimators=100,\n",
    "            learning_rate=0.1,\n",
    "            max_depth=6,\n",
    "            random_state=42,\n",
    "            eval_metric='logloss',\n",
    "            use_label_encoder=False,\n",
    "            callbacks=[TQDMCallback(total_boost_rounds=100)]\n",
    "        ),\n",
    "        \"data\": \"original\",\n",
    "        \"description\": \"Gradient boosting for mixed features\"\n",
    "    },\n",
    "    \n",
    "    \"🟢 SVM (RBF)\": {\n",
    "        \"model\": SVC(kernel='rbf', random_state=42, probability=True),\n",
    "        \"data\": \"scaled\",\n",
    "        \"description\": \"Support Vector Machine with RBF kernel\"\n",
    "    },\n",
    "    \n",
    "    \"🟢 SVM (Linear)\": {\n",
    "        \"model\": SVC(kernel='linear', random_state=42, probability=True),\n",
    "        \"data\": \"scaled\",\n",
    "        \"description\": \"Linear Support Vector Machine\"\n",
    "    },\n",
    "    \n",
    "    \"🟠 Gaussian Naive Bayes\": {\n",
    "        \"model\": GaussianNB(),\n",
    "        \"data\": \"minmax\",\n",
    "        \"description\": \"Probabilistic classifier\"\n",
    "    }\n",
    "}\n",
    "\n",
    "# =============================================================================\n",
    "# STEP 4: TRAINING AND EVALUATION\n",
    "# =============================================================================\n",
    "\n",
    "results = []\n",
    "\n",
    "def evaluate_classifier(name, model, X_train_data, X_test_data, y_train, y_test):\n",
    "    print(f\"\\n🔄 [{len(results)+1}/{len(classifiers)}] Training {name} ({config['description']})...\")\n",
    " \n",
    "    # Train the model\n",
    "    model.fit(X_train_data, y_train)\n",
    "    \n",
    "    # Make predictions\n",
    "    y_pred = model.predict(X_test_data)\n",
    "    y_pred_proba = model.predict_proba(X_test_data)[:, 1] if hasattr(model, 'predict_proba') else None\n",
    "    \n",
    "    # Calculate metrics\n",
    "    accuracy = accuracy_score(y_test, y_pred)\n",
    "    precision = precision_score(y_test, y_pred)\n",
    "    recall = recall_score(y_test, y_pred)\n",
    "    f1 = f1_score(y_test, y_pred)\n",
    "    \n",
    "    print(\"   🔁 Cross-validation:\")\n",
    "    cv_scores = []\n",
    "    cv = StratifiedKFold(n_splits=5, shuffle=True, random_state=42)\n",
    "\n",
    "    for train_idx, val_idx in tqdm(cv.split(X_train_data, y_train), total=5, desc=\"   ⏳ CV Progress\"):\n",
    "        model_clone = clone(model)\n",
    "        model_clone.fit(X_train_data[train_idx], y_train[train_idx])\n",
    "        score = model_clone.score(X_train_data[val_idx], y_train[val_idx])\n",
    "        cv_scores.append(score)\n",
    "\n",
    "    cv_scores = np.array(cv_scores)\n",
    "    cv_mean = cv_scores.mean()\n",
    "    cv_std = cv_scores.std()\n",
    "\n",
    "    \n",
    "    print(f\"   ✅ Accuracy: {accuracy:.4f}\")\n",
    "    print(f\"   📊 CV Score: {cv_mean:.4f} (±{cv_std:.4f})\")\n",
    "    \n",
    "    return {\n",
    "        'Classifier': name,\n",
    "        'Accuracy': accuracy,\n",
    "        'Precision': precision,\n",
    "        'Recall': recall,\n",
    "        'F1-Score': f1,\n",
    "        'CV_Mean': cv_mean,\n",
    "        'CV_Std': cv_std,\n",
    "        'Predictions': y_pred,\n",
    "        'Probabilities': y_pred_proba\n",
    "    }\n",
    "\n",
    "# Train and evaluate all classifiers\n",
    "for name, config in classifiers.items():\n",
    "    model = config[\"model\"]\n",
    "    data_type = config[\"data\"]\n",
    "    \n",
    "    # Select appropriate data\n",
    "    if data_type == \"scaled\":\n",
    "        X_train_data, X_test_data = X_train_scaled, X_test_scaled\n",
    "    elif data_type == \"minmax\":\n",
    "        X_train_data, X_test_data = X_train_minmax, X_test_minmax\n",
    "    else:  # original\n",
    "        X_train_data, X_test_data = X_train, X_test\n",
    "    \n",
    "    try:\n",
    "        result = evaluate_classifier(name, model, X_train_data, X_test_data, y_train, y_test)\n",
    "        result['Description'] = config[\"description\"]\n",
    "        results.append(result)\n",
    "    except Exception as e:\n",
    "        print(f\"   ❌ Error with {name}: {str(e)}\")\n",
    "\n",
    "# =============================================================================\n",
    "# STEP 5: TRANSFORMER-BASED CLASSIFIER (BERT)\n",
    "# =============================================================================\n",
    "\n",
    "print(f\"\\n🔥 Training Transformer-Based Classifier (DistilBERT)...\")\n",
    "\n",
    "try:\n",
    "    # Prepare text data for BERT (assuming you have the original text)\n",
    "    # You'll need to modify this part based on how your original text is stored\n",
    "    \n",
    "    # For demonstration, let's assume you have df with 'text' column\n",
    "    train_texts = df.iloc[X_train.index]['text'].tolist() if hasattr(X_train, 'index') else []\n",
    "    test_texts = df.iloc[X_test.index]['text'].tolist() if hasattr(X_test, 'index') else []\n",
    "    \n",
    "    if len(train_texts) > 0:  # Only if we have text data\n",
    "        from transformers import AutoTokenizer, AutoModelForSequenceClassification, pipeline\n",
    "        \n",
    "        # Use a lightweight model for faster training\n",
    "        model_name = \"distilbert-base-uncased\"\n",
    "        classifier = pipeline(\"text-classification\", \n",
    "                            model=model_name, \n",
    "                            return_all_scores=True)\n",
    "        \n",
    "        # This is a simplified approach - for better results, you'd want to fine-tune\n",
    "        print(\"   ⚠️  Using pre-trained DistilBERT (not fine-tuned on your data)\")\n",
    "        print(\"   💡 For best results, consider fine-tuning on your specific dataset\")\n",
    "        \n",
    "        # Sample a subset for faster evaluation\n",
    "        sample_size = min(1000, len(test_texts))\n",
    "        sample_indices = np.random.choice(len(test_texts), sample_size, replace=False)\n",
    "        sample_texts = [test_texts[i] for i in sample_indices]\n",
    "        sample_labels = y_test[sample_indices]\n",
    "        \n",
    "        # Get predictions (this might take a while)\n",
    "        bert_predictions = []\n",
    "        for text in tqdm(sample_texts[:100], desc=\"🤖 BERT Inference\"):  # Limit to 100 for demo\n",
    "            result = classifier(text[:512])  # Truncate long texts\n",
    "            # Assuming label 1 is fake news\n",
    "            fake_score = result[0]['score'] if result[0]['label'] == 'NEGATIVE' else result[1]['score']\n",
    "            bert_predictions.append(1 if fake_score > 0.5 else 0)\n",
    "        \n",
    "        if len(bert_predictions) > 0:\n",
    "            bert_accuracy = accuracy_score(sample_labels[:len(bert_predictions)], bert_predictions)\n",
    "            print(f\"   ✅ BERT Accuracy (sample): {bert_accuracy:.4f}\")\n",
    "            \n",
    "            results.append({\n",
    "                'Classifier': '🔥 DistilBERT (Pre-trained)',\n",
    "                'Accuracy': bert_accuracy,\n",
    "                'Precision': precision_score(sample_labels[:len(bert_predictions)], bert_predictions),\n",
    "                'Recall': recall_score(sample_labels[:len(bert_predictions)], bert_predictions),\n",
    "                'F1-Score': f1_score(sample_labels[:len(bert_predictions)], bert_predictions),\n",
    "                'CV_Mean': None,\n",
    "                'CV_Std': None,\n",
    "                'Description': 'Pre-trained transformer (sample evaluation)'\n",
    "            })\n",
    "        \n",
    "except Exception as e:\n",
    "    print(f\"   ❌ BERT classifier failed: {str(e)}\")\n",
    "    print(\"   💡 Make sure transformers library is installed: pip install transformers\")\n",
    "\n",
    "# =============================================================================\n",
    "# STEP 6: RESULTS COMPARISON\n",
    "# =============================================================================\n",
    "\n",
    "print(\"\\n\" + \"=\"*80)\n",
    "print(\"📈 FINAL RESULTS COMPARISON\")\n",
    "print(\"=\"*80)\n",
    "\n",
    "# Create results DataFrame\n",
    "results_df = pd.DataFrame(results)\n",
    "results_df = results_df.sort_values('Accuracy', ascending=False)\n",
    "\n",
    "# Display results table\n",
    "print(\"\\n🏆 RANKING BY ACCURACY:\")\n",
    "print(\"-\" * 80)\n",
    "for idx, row in results_df.iterrows():\n",
    "    print(f\"{len(results_df) - list(results_df.index).index(idx):2d}. {row['Classifier']:<30} \"\n",
    "          f\"Acc: {row['Accuracy']:.4f} | \"\n",
    "          f\"F1: {row['F1-Score']:.4f} | \"\n",
    "          f\"Prec: {row['Precision']:.4f} | \"\n",
    "          f\"Recall: {row['Recall']:.4f}\")\n",
    "\n",
    "print(f\"\\n📊 DETAILED METRICS:\")\n",
    "print(\"-\" * 80)\n",
    "display_cols = ['Classifier', 'Accuracy', 'Precision', 'Recall', 'F1-Score', 'CV_Mean', 'CV_Std']\n",
    "print(results_df[display_cols].to_string(index=False, float_format='%.4f'))\n",
    "\n",
    "# =============================================================================\n",
    "# STEP 7: VISUALIZATION\n",
    "# =============================================================================\n",
    "\n",
    "print(f\"\\n📊 Creating visualizations...\")\n",
    "\n",
    "# Create subplots\n",
    "fig, axes = plt.subplots(2, 2, figsize=(15, 12))\n",
    "fig.suptitle('Fake News Detection - Classifier Comparison', fontsize=16, fontweight='bold')\n",
    "\n",
    "# 1. Accuracy Comparison\n",
    "ax1 = axes[0, 0]\n",
    "classifiers_clean = [name.split(' ', 1)[1] if ' ' in name else name for name in results_df['Classifier']]\n",
    "colors = plt.cm.Set3(np.linspace(0, 1, len(results_df)))\n",
    "bars1 = ax1.bar(range(len(results_df)), results_df['Accuracy'], color=colors)\n",
    "ax1.set_title('🎯 Accuracy Comparison')\n",
    "ax1.set_ylabel('Accuracy')\n",
    "ax1.set_xticks(range(len(results_df)))\n",
    "ax1.set_xticklabels(classifiers_clean, rotation=45, ha='right')\n",
    "ax1.set_ylim(0, 1)\n",
    "\n",
    "# Add value labels on bars\n",
    "for i, bar in enumerate(bars1):\n",
    "    height = bar.get_height()\n",
    "    ax1.text(bar.get_x() + bar.get_width()/2., height + 0.01,\n",
    "             f'{height:.3f}', ha='center', va='bottom', fontweight='bold')\n",
    "\n",
    "# 2. F1-Score Comparison\n",
    "ax2 = axes[0, 1]\n",
    "bars2 = ax2.bar(range(len(results_df)), results_df['F1-Score'], color=colors)\n",
    "ax2.set_title('⚖️ F1-Score Comparison')\n",
    "ax2.set_ylabel('F1-Score')\n",
    "ax2.set_xticks(range(len(results_df)))\n",
    "ax2.set_xticklabels(classifiers_clean, rotation=45, ha='right')\n",
    "ax2.set_ylim(0, 1)\n",
    "\n",
    "for i, bar in enumerate(bars2):\n",
    "    height = bar.get_height()\n",
    "    ax2.text(bar.get_x() + bar.get_width()/2., height + 0.01,\n",
    "             f'{height:.3f}', ha='center', va='bottom', fontweight='bold')\n",
    "\n",
    "# 3. Precision vs Recall\n",
    "ax3 = axes[1, 0]\n",
    "scatter = ax3.scatter(results_df['Precision'], results_df['Recall'], \n",
    "                     s=results_df['Accuracy']*500, c=colors, alpha=0.7, edgecolors='black')\n",
    "ax3.set_title('🎯 Precision vs Recall\\n(Size = Accuracy)')\n",
    "ax3.set_xlabel('Precision')\n",
    "ax3.set_ylabel('Recall')\n",
    "ax3.grid(True, alpha=0.3)\n",
    "\n",
    "# Add classifier labels\n",
    "for i, row in results_df.iterrows():\n",
    "    ax3.annotate(classifiers_clean[list(results_df.index).index(i)], \n",
    "                (row['Precision'], row['Recall']),\n",
    "                xytext=(5, 5), textcoords='offset points', fontsize=8)\n",
    "\n",
    "# 4. All Metrics Radar Chart (for top 3 classifiers)\n",
    "ax4 = axes[1, 1]\n",
    "top_3 = results_df.head(3)\n",
    "metrics = ['Accuracy', 'Precision', 'Recall', 'F1-Score']\n",
    "\n",
    "for i, (idx, row) in enumerate(top_3.iterrows()):\n",
    "    values = [row[metric] for metric in metrics]\n",
    "    values += values[:1]  # Complete the circle\n",
    "    \n",
    "    angles = np.linspace(0, 2*np.pi, len(metrics), endpoint=False).tolist()\n",
    "    angles += angles[:1]\n",
    "    \n",
    "    ax4.plot(angles, values, 'o-', linewidth=2, label=classifiers_clean[list(results_df.index).index(idx)])\n",
    "    ax4.fill(angles, values, alpha=0.25)\n",
    "\n",
    "ax4.set_xticks(angles[:-1])\n",
    "ax4.set_xticklabels(metrics)\n",
    "ax4.set_ylim(0, 1)\n",
    "ax4.set_title('🕸️ Top 3 Classifiers - All Metrics')\n",
    "ax4.legend(loc='upper right', bbox_to_anchor=(1.3, 1.0))\n",
    "ax4.grid(True)\n",
    "\n",
    "plt.tight_layout()\n",
    "plt.show()\n",
    "\n",
    "# =============================================================================\n",
    "# STEP 8: RECOMMENDATIONS\n",
    "# =============================================================================\n",
    "\n",
    "print(\"\\n\" + \"=\"*80)\n",
    "print(\"💡 RECOMMENDATIONS & INSIGHTS\")\n",
    "print(\"=\"*80)\n",
    "\n",
    "best_classifier = results_df.iloc[0]\n",
    "print(f\"\\n🏆 BEST PERFORMER: {best_classifier['Classifier']}\")\n",
    "print(f\"   • Accuracy: {best_classifier['Accuracy']:.4f}\")\n",
    "print(f\"   • F1-Score: {best_classifier['F1-Score']:.4f}\")\n",
    "print(f\"   • Description: {best_classifier['Description']}\")\n",
    "\n",
    "print(f\"\\n🔍 ANALYSIS:\")\n",
    "\n",
    "# Performance categories\n",
    "high_performers = results_df[results_df['Accuracy'] >= 0.75]\n",
    "medium_performers = results_df[(results_df['Accuracy'] >= 0.65) & (results_df['Accuracy'] < 0.75)]\n",
    "low_performers = results_df[results_df['Accuracy'] < 0.65]\n",
    "\n",
    "if len(high_performers) > 0:\n",
    "    print(f\"   🟢 High Performers (≥75%): {', '.join(high_performers['Classifier'].tolist())}\")\n",
    "\n",
    "if len(medium_performers) > 0:\n",
    "    print(f\"   🟡 Medium Performers (65-75%): {', '.join(medium_performers['Classifier'].tolist())}\")\n",
    "\n",
    "if len(low_performers) > 0:\n",
    "    print(f\"   🔴 Low Performers (<65%): {', '.join(low_performers['Classifier'].tolist())}\")\n",
    "\n",
    "print(f\"\\n🚀 NEXT STEPS:\")\n",
    "print(f\"   1. Fine-tune hyperparameters for top 3 performers\")\n",
    "print(f\"   2. Try ensemble methods combining best classifiers\")\n",
    "print(f\"   3. Engineer additional features based on linguistic analysis\")\n",
    "print(f\"   4. Consider fine-tuning BERT/RoBERTa on your specific dataset\")\n",
    "print(f\"   5. Analyze misclassified examples for pattern insights\")\n",
    "\n",
    "print(f\"\\n⚡ QUICK WINS:\")\n",
    "print(f\"   • Your custom features (paraphrasing, subjectivity, etc.) are valuable!\")\n",
    "print(f\"   • Consider feature selection to remove less important features\")\n",
    "print(f\"   • Try different text preprocessing approaches\")\n",
    "print(f\"   • Experiment with different embedding models (sentence-transformers)\")\n",
    "\n",
    "print(f\"\\n\" + \"=\"*80)\n",
    "print(\"✅ ANALYSIS COMPLETE! Check the visualizations above.\")\n",
    "print(\"=\"*80)"
   ]
  },
  {
   "cell_type": "code",
   "execution_count": null,
   "metadata": {},
   "outputs": [],
   "source": []
  }
 ],
 "metadata": {
  "kernelspec": {
   "display_name": "environment",
   "language": "python",
   "name": "python3"
  },
  "language_info": {
   "codemirror_mode": {
    "name": "ipython",
    "version": 3
   },
   "file_extension": ".py",
   "mimetype": "text/x-python",
   "name": "python",
   "nbconvert_exporter": "python",
   "pygments_lexer": "ipython3",
   "version": "3.10.7"
  },
  "orig_nbformat": 4
 },
 "nbformat": 4,
 "nbformat_minor": 2
}
