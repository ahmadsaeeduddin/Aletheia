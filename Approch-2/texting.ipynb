{
 "cells": [
  {
   "cell_type": "code",
   "execution_count": 11,
   "id": "613af95a",
   "metadata": {},
   "outputs": [
    {
     "name": "stdout",
     "output_type": "stream",
     "text": [
      "['https://www.politico.com/news/magazine/2025/06/25/zohran-mamdani-win-what-does-it-mean-00424594', 'https://www.pbs.org/newshour/politics/mamdani-declares-victory-in-nycs-democratic-mayoral-primary-as-cuomo-concedes', 'https://www.cbsnews.com/newyork/news/zohran-mamdani-nyc-democratic-mayoral-primary-andrew-cuomo/', 'https://www.usatoday.com/story/news/politics/2025/06/25/zohran-mamdani-democratic-nyc-primary-mayor/84346256007/', 'https://www.thenation.com/article/politics/zohran-mamdani-wins-nyc-mayor-primary-results/', 'https://nypost.com/2025/06/24/us-news/andrew-cuomo-concedes-as-zohran-mamdani-wins-nyc-mayoral-primary-in-stunning-upset/', 'https://www.pbs.org/newshour/show/what-zohran-mamdanis-primary-win-in-new-york-means-for-democrats-nationwide', 'https://www.thecity.nyc/2025/06/24/mayoral-election-first-round-results-cuomo-mamdani/', 'https://news.sky.com/story/zohran-mamdani-socialist-wins-new-york-citys-democratic-mayoral-primary-with-promises-of-free-buses-and-new-apartments-13388224', 'https://www.jta.org/2025/06/25/politics/zoran-mamdanis-win-in-nyc-is-a-big-boost-for-the-boycott-israel-movement']\n"
     ]
    }
   ],
   "source": [
    "from duckduckgo_search import DDGS\n",
    "\n",
    "query = \"pzohran mamdani wins election\"\n",
    "with DDGS() as ddgs:\n",
    "    results = ddgs.text(query)\n",
    "    urls = [r['href'] for r in results]\n",
    "    print(urls)\n"
   ]
  },
  {
   "cell_type": "code",
   "execution_count": 8,
   "id": "5a5fc08d",
   "metadata": {},
   "outputs": [
    {
     "name": "stdout",
     "output_type": "stream",
     "text": [
      "How ranked-choice voting works in the New York City mayoral primary\n",
      "https://abcnews.go.com/Politics/ranked-choice-voting-works-new-york-city-mayoral/story?id=122941491\n",
      "\n",
      "Some candidates focus on blocking Cuomo's path a day before NYC's mayoral primary\n",
      "https://abcnews.go.com/Politics/wireStory/candidates-focus-blocking-cuomos-path-day-nycs-mayoral-123132373\n",
      "\n",
      "New York City is using ranked choice voting in its Democratic mayoral primary\n",
      "https://abcnews.go.com/Technology/wireStory/new-york-city-ranked-choice-voting-democratic-mayoral-123108247\n",
      "\n",
      "How Ranked-Choice Voting in the New York City Mayoral Primary Works\n",
      "https://time.com/7296165/nyc-mayor-ranked-choice-voting-primary/\n",
      "\n",
      "How Andrew Cuomo Could Become NYC Mayor — Even if Zohran Mamdani Wins\n",
      "https://theintercept.com/2025/06/24/zohran-mamdani-andrew-cuomo-nyc-mayor/\n",
      "\n"
     ]
    }
   ],
   "source": [
    "from newsapi import NewsApiClient\n",
    "\n",
    "newsapi = NewsApiClient(api_key='4ba2d069b8e3466eb449d5ec37c29d2c')\n",
    "\n",
    "articles = newsapi.get_everything(\n",
    "    q='zohran mamdani wins election',\n",
    "    # sources='bbc-news',      # Optional: remove this to include all sources\n",
    "    language='en',\n",
    "    page_size=5\n",
    ")\n",
    "\n",
    "for article in articles['articles']:\n",
    "    print(article['title'])\n",
    "    print(article['url'])\n",
    "    print()\n"
   ]
  },
  {
   "cell_type": "code",
   "execution_count": 10,
   "id": "d07a79e9",
   "metadata": {},
   "outputs": [
    {
     "name": "stdout",
     "output_type": "stream",
     "text": [
      "Collecting duckduckgo_search\n",
      "  Using cached duckduckgo_search-8.0.4-py3-none-any.whl (18 kB)\n",
      "Requirement already satisfied: click>=8.1.8 in /home/lab/jupyter/environment/lib/python3.10/site-packages (from duckduckgo_search) (8.2.1)\n",
      "Collecting primp>=0.15.0\n",
      "  Using cached primp-0.15.0-cp38-abi3-manylinux_2_17_x86_64.manylinux2014_x86_64.whl (3.3 MB)\n",
      "Collecting lxml>=5.3.0\n",
      "  Using cached lxml-5.4.0-cp310-cp310-manylinux_2_28_x86_64.whl (5.1 MB)\n",
      "Installing collected packages: primp, lxml, duckduckgo_search\n",
      "Successfully installed duckduckgo_search-8.0.4 lxml-5.4.0 primp-0.15.0\n",
      "\n",
      "\u001b[1m[\u001b[0m\u001b[34;49mnotice\u001b[0m\u001b[1;39;49m]\u001b[0m\u001b[39;49m A new release of pip available: \u001b[0m\u001b[31;49m22.3.1\u001b[0m\u001b[39;49m -> \u001b[0m\u001b[32;49m25.1.1\u001b[0m\n",
      "\u001b[1m[\u001b[0m\u001b[34;49mnotice\u001b[0m\u001b[1;39;49m]\u001b[0m\u001b[39;49m To update, run: \u001b[0m\u001b[32;49mpip install --upgrade pip\u001b[0m\n",
      "Note: you may need to restart the kernel to use updated packages.\n"
     ]
    }
   ],
   "source": [
    "pip install duckduckgo_search"
   ]
  },
  {
   "cell_type": "code",
   "execution_count": null,
   "id": "897d7e28",
   "metadata": {},
   "outputs": [],
   "source": []
  }
 ],
 "metadata": {
  "kernelspec": {
   "display_name": "Python (environment)",
   "language": "python",
   "name": "environment"
  },
  "language_info": {
   "codemirror_mode": {
    "name": "ipython",
    "version": 3
   },
   "file_extension": ".py",
   "mimetype": "text/x-python",
   "name": "python",
   "nbconvert_exporter": "python",
   "pygments_lexer": "ipython3",
   "version": "3.10.7"
  }
 },
 "nbformat": 4,
 "nbformat_minor": 5
}
